{
 "cells": [
  {
   "cell_type": "code",
   "execution_count": 1,
   "metadata": {},
   "outputs": [
    {
     "name": "stdout",
     "output_type": "stream",
     "text": [
      "Enter module name:sen12ms_dataLoader\n"
     ]
    },
    {
     "data": {
      "text/plain": [
       "<module 'sen12ms_dataLoader' from '/Users/miaoxinran/Sen12MS/sen12ms_dataLoader.py'>"
      ]
     },
     "execution_count": 1,
     "metadata": {},
     "output_type": "execute_result"
    }
   ],
   "source": [
    "import importlib\n",
    "\n",
    "moduleName = input('Enter module name:')\n",
    "importlib.import_module(moduleName)"
   ]
  },
  {
   "cell_type": "code",
   "execution_count": 26,
   "metadata": {},
   "outputs": [],
   "source": [
    "import pandas as pd\n",
    "import numpy as np"
   ]
  },
  {
   "cell_type": "code",
   "execution_count": 224,
   "metadata": {},
   "outputs": [],
   "source": [
    "label_idx = {'Original':np.array(range(17))+1,\n",
    "        'Simplified':np.array([1,1,1,1,1,2,2,3,3,4,5,6,7,6,8,9,10])}\n",
    "simply_df = pd.DataFrame(label_idx)\n",
    "labels = ['Forest','Shrubland','Savanna','Grassland','Wetlands',\n",
    "                  'Croplands','Urban/Built-up','Snow/Ice','Barren','Water']"
   ]
  },
  {
   "cell_type": "code",
   "execution_count": null,
   "metadata": {},
   "outputs": [],
   "source": [
    "simplify = lambda t:simply_df.loc[t-1,'Simplified']"
   ]
  },
  {
   "cell_type": "code",
   "execution_count": 236,
   "metadata": {},
   "outputs": [],
   "source": [
    "class Labels:\n",
    "    def simplify_labels(self):\n",
    "        a = np.copy(self)\n",
    "        with np.nditer(a, op_flags=['readwrite']) as it:\n",
    "            for x in it:\n",
    "                x[...] =np.array(simplify(x))#[0]\n",
    "        return(a)\n",
    "    \n",
    "    def labels_prob(self): \n",
    "        proportion = np.zeros(10)\n",
    "        for i in range(10):\n",
    "            proportion[i] = np.count_nonzero(self==i+1)/(256**2)\n",
    "        return(proportion)\n",
    "    \n",
    "    def image_label(self):\n",
    "        return(self.argmax()+1)\n",
    "    \n",
    "    def image_label_name(self):\n",
    "        return(labels[self+1])\n",
    "        \n",
    "        "
   ]
  },
  {
   "cell_type": "code",
   "execution_count": 9,
   "metadata": {},
   "outputs": [],
   "source": [
    "import sen12ms_dataLoader as loader"
   ]
  },
  {
   "cell_type": "code",
   "execution_count": 5,
   "metadata": {},
   "outputs": [],
   "source": [
    "sen12ms = loader.SEN12MSDataset(\"/Volumes/ksankaran/Sen12MS\")"
   ]
  },
  {
   "cell_type": "code",
   "execution_count": 7,
   "metadata": {},
   "outputs": [],
   "source": [
    "summer_ids = sen12ms.get_season_ids(loader.Seasons.SUMMER)"
   ]
  },
  {
   "cell_type": "code",
   "execution_count": 13,
   "metadata": {},
   "outputs": [],
   "source": [
    "patch_8 = sen12ms.get_patch_ids(loader.Seasons.SUMMER, 8)"
   ]
  },
  {
   "cell_type": "code",
   "execution_count": 177,
   "metadata": {},
   "outputs": [],
   "source": [
    "test_img = sen12ms.get_patch(loader.Seasons.SUMMER, \n",
    "                             8,\n",
    "                             patch_8[100],\n",
    "                             bands = loader.LCBands.IGBP)"
   ]
  },
  {
   "cell_type": "code",
   "execution_count": 237,
   "metadata": {},
   "outputs": [],
   "source": [
    "sim = Labels.simplify_labels(test_img[0])\n",
    "prob = Labels.labels_prob(sim)\n",
    "label = Labels.image_label(prob)\n",
    "name = Labels.image_label_name(label)"
   ]
  }
 ],
 "metadata": {
  "kernelspec": {
   "display_name": "Python 3",
   "language": "python",
   "name": "python3"
  },
  "language_info": {
   "codemirror_mode": {
    "name": "ipython",
    "version": 3
   },
   "file_extension": ".py",
   "mimetype": "text/x-python",
   "name": "python",
   "nbconvert_exporter": "python",
   "pygments_lexer": "ipython3",
   "version": "3.7.0"
  }
 },
 "nbformat": 4,
 "nbformat_minor": 4
}
