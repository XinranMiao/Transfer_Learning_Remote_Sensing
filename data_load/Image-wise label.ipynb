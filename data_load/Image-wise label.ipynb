{
 "cells": [
  {
   "cell_type": "code",
   "execution_count": 4,
   "metadata": {
    "collapsed": false
   },
   "outputs": [],
   "source": [
    "import importlib\n",
    "from geotransfer.label import Labels\n",
    "import geotransfer.sen12ms_dataLoader as loader\n"
   ]
  },
  {
   "cell_type": "code",
   "execution_count": 5,
   "metadata": {
    "collapsed": false
   },
   "outputs": [],
   "source": [
    "import pandas as pd\n",
    "import numpy as np"
   ]
  },
  {
   "cell_type": "code",
   "execution_count": 12,
   "metadata": {
    "collapsed": false
   },
   "outputs": [],
   "source": [
    "label_idx = {'Original':np.array(range(17))+1,\n",
    "        'Simplified':np.array([1,1,1,1,1,2,2,3,3,4,5,6,7,6,8,9,10])}\n",
    "simply_df = pd.DataFrame(label_idx)\n",
    "labels = ['Forest','Shrubland','Savanna','Grassland','Wetlands',\n",
    "          'Croplands','Urban/Built-up','Snow/Ice','Barren','Water']"
   ]
  },
  {
   "cell_type": "code",
   "execution_count": 13,
   "metadata": {
    "collapsed": false
   },
   "outputs": [],
   "source": [
    "simplify = lambda t:simply_df.loc[t-1,'Simplified']"
   ]
  },
  {
   "cell_type": "code",
   "execution_count": 10,
   "metadata": {
    "collapsed": false
   },
   "outputs": [],
   "source": [
    "sen12ms = loader.SEN12MSDataset(\"/Volumes/ksankaran/Sen12MS\")"
   ]
  },
  {
   "cell_type": "code",
   "execution_count": 11,
   "metadata": {
    "collapsed": false
   },
   "outputs": [],
   "source": [
    "summer_ids = sen12ms.get_season_ids(loader.Seasons.SUMMER)"
   ]
  },
  {
   "cell_type": "code",
   "execution_count": 13,
   "metadata": {
    "collapsed": false
   },
   "outputs": [],
   "source": [
    "patch_8 = sen12ms.get_patch_ids(loader.Seasons.SUMMER, 8)"
   ]
  },
  {
   "cell_type": "code",
   "execution_count": 177,
   "metadata": {
    "collapsed": false
   },
   "outputs": [],
   "source": [
    "test_img = sen12ms.get_patch(loader.Seasons.SUMMER,\n",
    "                             8,\n",
    "                             patch_8[100],\n",
    "                             bands = loader.LCBands.IGBP)"
   ]
  },
  {
   "cell_type": "code",
   "execution_count": 237,
   "metadata": {
    "collapsed": false
   },
   "outputs": [],
   "source": [
    "sim = Labels.simplify_labels(test_img[0])\n",
    "prob = Labels.labels_prob(sim)\n",
    "label = Labels.image_label(prob)\n",
    "name = Labels.image_label_name(label)"
   ]
  }
 ],
 "metadata": {
  "kernelspec": {
   "argv": [
    "/Users/kris/.virtualenvs/geo-transfer/bin/python3",
    "-m",
    "ipykernel_launcher",
    "-f",
    "{connection_file}"
   ],
   "display_name": "geo-transfer",
   "env": null,
   "interrupt_mode": "signal",
   "language": "python",
   "metadata": null,
   "name": "geo-transfer"
  },
  "language_info": {
   "codemirror_mode": {
    "name": "ipython",
    "version": 3
   },
   "file_extension": ".py",
   "mimetype": "text/x-python",
   "name": "python",
   "nbconvert_exporter": "python",
   "pygments_lexer": "ipython3",
   "version": "3.7.0"
  },
  "name": "Image-wise label.ipynb"
 },
 "nbformat": 4,
 "nbformat_minor": 4
}
