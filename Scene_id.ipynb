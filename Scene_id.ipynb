{
 "cells": [
  {
   "cell_type": "markdown",
   "metadata": {},
   "source": [
    "This notebook is used to get the scene indices of each season, and write them into a .csv file."
   ]
  },
  {
   "cell_type": "code",
   "execution_count": 90,
   "metadata": {},
   "outputs": [],
   "source": [
    "import Label\n",
    "import numpy as np\n",
    "import pandas as pd"
   ]
  },
  {
   "cell_type": "code",
   "execution_count": 91,
   "metadata": {},
   "outputs": [],
   "source": [
    "import sen12ms_dataLoader as loader"
   ]
  },
  {
   "cell_type": "code",
   "execution_count": 92,
   "metadata": {},
   "outputs": [],
   "source": [
    "sen12ms = loader.SEN12MSDataset(\"/Volumes/ksankaran/Sen12MS\")"
   ]
  },
  {
   "cell_type": "code",
   "execution_count": 93,
   "metadata": {},
   "outputs": [],
   "source": [
    "spring_scene_ids = sen12ms.get_scene_ids(loader.Seasons.SPRING)\n",
    "summer_scene_ids = sen12ms.get_scene_ids(loader.Seasons.SUMMER)\n",
    "fall_scene_ids = sen12ms.get_scene_ids(loader.Seasons.FALL)\n",
    "winter_scene_ids = sen12ms.get_scene_ids(loader.Seasons.WINTER)"
   ]
  },
  {
   "cell_type": "code",
   "execution_count": 94,
   "metadata": {},
   "outputs": [],
   "source": [
    "\n",
    "scene_id = sorted(list(spring_scene_ids))\n",
    "scene_id.extend(sorted(list(summer_scene_ids)))\n",
    "scene_id.extend(sorted(list(fall_scene_ids)))\n",
    "scene_id.extend(sorted(list(winter_scene_ids)))"
   ]
  },
  {
   "cell_type": "code",
   "execution_count": 95,
   "metadata": {},
   "outputs": [],
   "source": [
    "season = ['spring']*len(spring_scene_ids) \n",
    "season.extend(['summer']*len(summer_scene_ids))  \n",
    "season.extend(['fall']*len(fall_scene_ids))   \n",
    "season.extend(['winter']*len(winter_scene_ids))   "
   ]
  },
  {
   "cell_type": "code",
   "execution_count": 96,
   "metadata": {},
   "outputs": [],
   "source": [
    "df = pd.DataFrame({'season':season,\n",
    "                   'scene_id':scene_id})"
   ]
  },
  {
   "cell_type": "code",
   "execution_count": 99,
   "metadata": {},
   "outputs": [
    {
     "data": {
      "text/plain": [
       "<bound method NDFrame.head of      season  scene_id\n",
       "0    spring         1\n",
       "1    spring         6\n",
       "2    spring         8\n",
       "3    spring         9\n",
       "4    spring        15\n",
       "..      ...       ...\n",
       "247  winter       135\n",
       "248  winter       138\n",
       "249  winter       140\n",
       "250  winter       144\n",
       "251  winter       146\n",
       "\n",
       "[252 rows x 2 columns]>"
      ]
     },
     "execution_count": 99,
     "metadata": {},
     "output_type": "execute_result"
    }
   ],
   "source": [
    "df.head"
   ]
  },
  {
   "cell_type": "code",
   "execution_count": 97,
   "metadata": {},
   "outputs": [],
   "source": [
    "df.to_csv('scene_indices.csv',index=False)"
   ]
  }
 ],
 "metadata": {
  "kernelspec": {
   "display_name": "Python 3",
   "language": "python",
   "name": "python3"
  },
  "language_info": {
   "codemirror_mode": {
    "name": "ipython",
    "version": 3
   },
   "file_extension": ".py",
   "mimetype": "text/x-python",
   "name": "python",
   "nbconvert_exporter": "python",
   "pygments_lexer": "ipython3",
   "version": "3.7.7"
  }
 },
 "nbformat": 4,
 "nbformat_minor": 4
}
