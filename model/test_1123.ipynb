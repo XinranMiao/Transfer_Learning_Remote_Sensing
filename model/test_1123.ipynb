{
 "cells": [
  {
   "cell_type": "code",
   "execution_count": 1,
   "metadata": {},
   "outputs": [],
   "source": [
    "import geotransfer\n",
    "from geotransfer.label import *\n",
    "from geotransfer.sen12ms_dataLoader import *\n",
    "from geotransfer.preprocessing import *\n",
    "from geotransfer.model_pre_functions import *\n",
    "from geotransfer.cca_core import *\n",
    "from geotransfer.get_activations import *"
   ]
  },
  {
   "cell_type": "code",
   "execution_count": 2,
   "metadata": {},
   "outputs": [],
   "source": [
    "import yaml\n",
    "import pandas as pd\n",
    "from tqdm import tqdm\n",
    "import numpy as np\n",
    "from torch.utils.data import TensorDataset, DataLoader"
   ]
  },
  {
   "cell_type": "code",
   "execution_count": 7,
   "metadata": {},
   "outputs": [],
   "source": [
    "conf_dict = [{'data_dir':\"/Volumes/ksankaran/sen12ms_subsample2/smaller_subset/metadata_clusters.csv\",\n",
    "        'output_dir':'/Volumes/ksankaran/sen12ms_subsample2/smaller_subset/'},\n",
    "        {'imagenet':False,'model_size':'tiny','num_freeze':5},\n",
    "       {'source_cluster':1,'test_size':0.3},\n",
    "       {'n_epochs':2,'batch_size':8}]\n",
    "with open('/Volumes/ksankaran/sen12ms_subsample2/smaller_subset/conf.yaml', 'w') as f:\n",
    "    data = yaml.dump(conf_dict, f)"
   ]
  },
  {
   "cell_type": "markdown",
   "metadata": {},
   "source": [
    "## Read parameters from a configuration file."
   ]
  },
  {
   "cell_type": "code",
   "execution_count": 8,
   "metadata": {
    "scrolled": false
   },
   "outputs": [
    {
     "name": "stderr",
     "output_type": "stream",
     "text": [
      "/Users/miaoxinran/anaconda3/lib/python3.7/site-packages/ipykernel_launcher.py:1: YAMLLoadWarning: calling yaml.load() without Loader=... is deprecated, as the default Loader is unsafe. Please read https://msg.pyyaml.org/load for full details.\n",
      "  \"\"\"Entry point for launching an IPython kernel.\n"
     ]
    }
   ],
   "source": [
    "conf = yaml.load(open(\"/Volumes/ksankaran/sen12ms_subsample2/smaller_subset/conf.yaml\"))"
   ]
  },
  {
   "cell_type": "code",
   "execution_count": 10,
   "metadata": {},
   "outputs": [],
   "source": [
    "metadata_dir = conf[0]['data_dir']\n",
    "output_dir = conf[0]['output_dir']\n",
    "\n",
    "imagenet = conf[1]['imagenet']\n",
    "model_size = conf[1]['model_size']\n",
    "num_freeze = conf[1]['num_freeze']\n",
    "\n",
    "source_cluster = conf[2]['source_cluster']\n",
    "test_size = conf[2]['test_size']\n",
    "\n",
    "batch_size = conf[3]['batch_size']\n",
    "n_epochs = conf[3]['n_epochs']\n"
   ]
  },
  {
   "cell_type": "code",
   "execution_count": 24,
   "metadata": {},
   "outputs": [
    {
     "data": {
      "text/html": [
       "<div>\n",
       "<style scoped>\n",
       "    .dataframe tbody tr th:only-of-type {\n",
       "        vertical-align: middle;\n",
       "    }\n",
       "\n",
       "    .dataframe tbody tr th {\n",
       "        vertical-align: top;\n",
       "    }\n",
       "\n",
       "    .dataframe thead th {\n",
       "        text-align: right;\n",
       "    }\n",
       "</style>\n",
       "<table border=\"1\" class=\"dataframe\">\n",
       "  <thead>\n",
       "    <tr style=\"text-align: right;\">\n",
       "      <th></th>\n",
       "      <th>Unnamed: 0</th>\n",
       "      <th>Unnamed: 0.1</th>\n",
       "      <th>image_basename</th>\n",
       "      <th>label_basename</th>\n",
       "      <th>roi</th>\n",
       "      <th>season</th>\n",
       "      <th>scene</th>\n",
       "      <th>patch</th>\n",
       "      <th>image_path</th>\n",
       "      <th>label_path</th>\n",
       "      <th>longitude</th>\n",
       "      <th>latitude</th>\n",
       "      <th>id</th>\n",
       "      <th>label_id</th>\n",
       "      <th>clusters</th>\n",
       "    </tr>\n",
       "  </thead>\n",
       "  <tbody>\n",
       "    <tr>\n",
       "      <th>0</th>\n",
       "      <td>178</td>\n",
       "      <td>179</td>\n",
       "      <td>ROIs1970_fall_s2_130_p503.tif</td>\n",
       "      <td>ROIs1970_fall_lc_130_p503.tif</td>\n",
       "      <td>ROIs1970</td>\n",
       "      <td>fall</td>\n",
       "      <td>130</td>\n",
       "      <td>p503</td>\n",
       "      <td>/Volumes/ksankaran/Sen12MS/ROIs1970_fall/s2_13...</td>\n",
       "      <td>/Volumes/ksankaran/Sen12MS/ROIs1970_fall/lc_13...</td>\n",
       "      <td>-76.680057</td>\n",
       "      <td>39.189120</td>\n",
       "      <td>190</td>\n",
       "      <td>1</td>\n",
       "      <td>0</td>\n",
       "    </tr>\n",
       "    <tr>\n",
       "      <th>1</th>\n",
       "      <td>260</td>\n",
       "      <td>261</td>\n",
       "      <td>ROIs1970_fall_s2_130_p839.tif</td>\n",
       "      <td>ROIs1970_fall_lc_130_p839.tif</td>\n",
       "      <td>ROIs1970</td>\n",
       "      <td>fall</td>\n",
       "      <td>130</td>\n",
       "      <td>p839</td>\n",
       "      <td>/Volumes/ksankaran/Sen12MS/ROIs1970_fall/s2_13...</td>\n",
       "      <td>/Volumes/ksankaran/Sen12MS/ROIs1970_fall/lc_13...</td>\n",
       "      <td>-76.680057</td>\n",
       "      <td>39.189120</td>\n",
       "      <td>190</td>\n",
       "      <td>1</td>\n",
       "      <td>0</td>\n",
       "    </tr>\n",
       "    <tr>\n",
       "      <th>2</th>\n",
       "      <td>605</td>\n",
       "      <td>606</td>\n",
       "      <td>ROIs1970_fall_s2_114_p921.tif</td>\n",
       "      <td>ROIs1970_fall_lc_114_p921.tif</td>\n",
       "      <td>ROIs1970</td>\n",
       "      <td>fall</td>\n",
       "      <td>114</td>\n",
       "      <td>p921</td>\n",
       "      <td>/Volumes/ksankaran/Sen12MS/ROIs1970_fall/s2_11...</td>\n",
       "      <td>/Volumes/ksankaran/Sen12MS/ROIs1970_fall/lc_11...</td>\n",
       "      <td>-83.955012</td>\n",
       "      <td>35.775723</td>\n",
       "      <td>179</td>\n",
       "      <td>1</td>\n",
       "      <td>0</td>\n",
       "    </tr>\n",
       "    <tr>\n",
       "      <th>3</th>\n",
       "      <td>138</td>\n",
       "      <td>139</td>\n",
       "      <td>ROIs1970_fall_s2_21_p320.tif</td>\n",
       "      <td>ROIs1970_fall_lc_21_p320.tif</td>\n",
       "      <td>ROIs1970</td>\n",
       "      <td>fall</td>\n",
       "      <td>21</td>\n",
       "      <td>p320</td>\n",
       "      <td>/Volumes/ksankaran/Sen12MS/ROIs1970_fall/s2_21...</td>\n",
       "      <td>/Volumes/ksankaran/Sen12MS/ROIs1970_fall/lc_21...</td>\n",
       "      <td>-2.083650</td>\n",
       "      <td>35.050345</td>\n",
       "      <td>131</td>\n",
       "      <td>2</td>\n",
       "      <td>1</td>\n",
       "    </tr>\n",
       "    <tr>\n",
       "      <th>4</th>\n",
       "      <td>487</td>\n",
       "      <td>488</td>\n",
       "      <td>ROIs2017_winter_s2_130_p70.tif</td>\n",
       "      <td>ROIs2017_winter_lc_130_p70.tif</td>\n",
       "      <td>ROIs2017</td>\n",
       "      <td>winter</td>\n",
       "      <td>130</td>\n",
       "      <td>p70</td>\n",
       "      <td>/Volumes/ksankaran/Sen12MS/ROIs2017_winter/s2_...</td>\n",
       "      <td>/Volumes/ksankaran/Sen12MS/ROIs2017_winter/lc_...</td>\n",
       "      <td>48.558600</td>\n",
       "      <td>31.321705</td>\n",
       "      <td>246</td>\n",
       "      <td>2</td>\n",
       "      <td>1</td>\n",
       "    </tr>\n",
       "  </tbody>\n",
       "</table>\n",
       "</div>"
      ],
      "text/plain": [
       "   Unnamed: 0  Unnamed: 0.1                  image_basename  \\\n",
       "0         178           179   ROIs1970_fall_s2_130_p503.tif   \n",
       "1         260           261   ROIs1970_fall_s2_130_p839.tif   \n",
       "2         605           606   ROIs1970_fall_s2_114_p921.tif   \n",
       "3         138           139    ROIs1970_fall_s2_21_p320.tif   \n",
       "4         487           488  ROIs2017_winter_s2_130_p70.tif   \n",
       "\n",
       "                   label_basename       roi  season  scene patch  \\\n",
       "0   ROIs1970_fall_lc_130_p503.tif  ROIs1970    fall    130  p503   \n",
       "1   ROIs1970_fall_lc_130_p839.tif  ROIs1970    fall    130  p839   \n",
       "2   ROIs1970_fall_lc_114_p921.tif  ROIs1970    fall    114  p921   \n",
       "3    ROIs1970_fall_lc_21_p320.tif  ROIs1970    fall     21  p320   \n",
       "4  ROIs2017_winter_lc_130_p70.tif  ROIs2017  winter    130   p70   \n",
       "\n",
       "                                          image_path  \\\n",
       "0  /Volumes/ksankaran/Sen12MS/ROIs1970_fall/s2_13...   \n",
       "1  /Volumes/ksankaran/Sen12MS/ROIs1970_fall/s2_13...   \n",
       "2  /Volumes/ksankaran/Sen12MS/ROIs1970_fall/s2_11...   \n",
       "3  /Volumes/ksankaran/Sen12MS/ROIs1970_fall/s2_21...   \n",
       "4  /Volumes/ksankaran/Sen12MS/ROIs2017_winter/s2_...   \n",
       "\n",
       "                                          label_path  longitude   latitude  \\\n",
       "0  /Volumes/ksankaran/Sen12MS/ROIs1970_fall/lc_13... -76.680057  39.189120   \n",
       "1  /Volumes/ksankaran/Sen12MS/ROIs1970_fall/lc_13... -76.680057  39.189120   \n",
       "2  /Volumes/ksankaran/Sen12MS/ROIs1970_fall/lc_11... -83.955012  35.775723   \n",
       "3  /Volumes/ksankaran/Sen12MS/ROIs1970_fall/lc_21...  -2.083650  35.050345   \n",
       "4  /Volumes/ksankaran/Sen12MS/ROIs2017_winter/lc_...  48.558600  31.321705   \n",
       "\n",
       "    id  label_id  clusters  \n",
       "0  190         1         0  \n",
       "1  190         1         0  \n",
       "2  179         1         0  \n",
       "3  131         2         1  \n",
       "4  246         2         1  "
      ]
     },
     "execution_count": 24,
     "metadata": {},
     "output_type": "execute_result"
    }
   ],
   "source": [
    "metadata = pd.read_csv(metadata_dir)\n",
    "metadata.head()"
   ]
  },
  {
   "cell_type": "markdown",
   "metadata": {},
   "source": [
    "## Load data and split into source, target (train, test) subsets"
   ]
  },
  {
   "cell_type": "code",
   "execution_count": 6,
   "metadata": {
    "scrolled": false
   },
   "outputs": [
    {
     "name": "stderr",
     "output_type": "stream",
     "text": [
      "100%|██████████| 27/27 [00:31<00:00,  1.16s/it]\n"
     ]
    }
   ],
   "source": [
    "X,y = load_data.load_img(metadata)"
   ]
  },
  {
   "cell_type": "code",
   "execution_count": 30,
   "metadata": {},
   "outputs": [],
   "source": [
    "y = y-1"
   ]
  },
  {
   "cell_type": "code",
   "execution_count": 9,
   "metadata": {},
   "outputs": [],
   "source": [
    "#np.save('/Volumes/ksankaran/sen12ms_subsample2/smaller_subset/X',X)\n",
    "#np.save('/Volumes/ksankaran/sen12ms_subsample2/smaller_subset/y',y)\n",
    "#X = np.load('/Volumes/ksankaran/sen12ms_subsample2/smaller_subset/X.npy')\n",
    "#y = np.load('/Volumes/ksankaran/sen12ms_subsample2/smaller_subset/y.npy')"
   ]
  },
  {
   "cell_type": "code",
   "execution_count": 31,
   "metadata": {},
   "outputs": [],
   "source": [
    "X_source, y_source, X_target_train, X_target_test,  y_target_train, y_target_test, X_target,y_target = split_data(metadata,\n",
    "                                                                                                                  X,y,\n",
    "                                                                                                                  source_cluster = source_cluster,\n",
    "                                                                                                                  test_size = test_size)"
   ]
  },
  {
   "cell_type": "code",
   "execution_count": 32,
   "metadata": {},
   "outputs": [
    {
     "data": {
      "text/plain": [
       "((15, 13, 256, 256), (15,), (8, 13, 256, 256), (8,), (4, 13, 256, 256), (4,))"
      ]
     },
     "execution_count": 32,
     "metadata": {},
     "output_type": "execute_result"
    }
   ],
   "source": [
    "X_source.shape,y_source.shape,X_target_train.shape,y_target_train.shape,X_target_test.shape,y_target_test.shape"
   ]
  },
  {
   "cell_type": "code",
   "execution_count": 33,
   "metadata": {},
   "outputs": [],
   "source": [
    "d2 = get_dict(y_source,num_classes=10)"
   ]
  },
  {
   "cell_type": "code",
   "execution_count": 36,
   "metadata": {},
   "outputs": [
    {
     "data": {
      "text/plain": [
       "(torch.Size([15, 13, 256, 256]), torch.Size([15]))"
      ]
     },
     "execution_count": 36,
     "metadata": {},
     "output_type": "execute_result"
    }
   ],
   "source": [
    "train_x,train_y = prepare_data(X_source,y_source,d2)\n",
    "train_x.shape,train_y.shape"
   ]
  },
  {
   "cell_type": "code",
   "execution_count": 20,
   "metadata": {},
   "outputs": [
    {
     "data": {
      "text/plain": [
       "(torch.Size([8, 13, 256, 256]), torch.Size([8]))"
      ]
     },
     "execution_count": 20,
     "metadata": {},
     "output_type": "execute_result"
    }
   ],
   "source": [
    "val_x,val_y = prepare_data(X_target_train,y_target_train,d2)\n",
    "val_x.shape,val_y.shape"
   ]
  },
  {
   "cell_type": "code",
   "execution_count": 39,
   "metadata": {},
   "outputs": [
    {
     "data": {
      "text/plain": [
       "(torch.Size([4, 13, 256, 256]), torch.Size([4]))"
      ]
     },
     "execution_count": 39,
     "metadata": {},
     "output_type": "execute_result"
    }
   ],
   "source": [
    "test_x,test_y = prepare_data(X_target_test,y_target_test,d2)\n",
    "test_x.shape,test_y.shape"
   ]
  },
  {
   "cell_type": "markdown",
   "metadata": {},
   "source": [
    "## Train the model"
   ]
  },
  {
   "cell_type": "code",
   "execution_count": 16,
   "metadata": {},
   "outputs": [],
   "source": [
    "if imagenet == True:\n",
    "    model = torch.load('/Volumes/ksankaran/ImageNet/Models/sub_mod1')\n",
    "else if model_size == 'tiny':\n",
    "    model = Net()\n",
    "else if model_size =='small':\n",
    "    model = smallNet()"
   ]
  },
  {
   "cell_type": "code",
   "execution_count": 17,
   "metadata": {},
   "outputs": [],
   "source": [
    "optimizer = Adam(model.parameters(), lr=0.0001)\n",
    "# defining the loss function\n",
    "criterion = CrossEntropyLoss()\n",
    "# checking if GPU is available\n",
    "if torch.cuda.is_available():\n",
    "    model = model.cuda()\n",
    "    criterion = criterion.cuda()"
   ]
  },
  {
   "cell_type": "code",
   "execution_count": 16,
   "metadata": {},
   "outputs": [],
   "source": [
    "model = model.double()"
   ]
  },
  {
   "cell_type": "code",
   "execution_count": 17,
   "metadata": {},
   "outputs": [
    {
     "name": "stderr",
     "output_type": "stream",
     "text": [
      " 50%|█████     | 1/2 [00:52<00:52, 52.51s/it]"
     ]
    },
    {
     "name": "stdout",
     "output_type": "stream",
     "text": [
      "epoch: \t 1 \t training loss: \t 2.0495978062270326\n"
     ]
    },
    {
     "name": "stderr",
     "output_type": "stream",
     "text": [
      "100%|██████████| 2/2 [01:45<00:00, 52.74s/it]"
     ]
    },
    {
     "name": "stdout",
     "output_type": "stream",
     "text": [
      "epoch: \t 2 \t training loss: \t 0.678595673071245\n"
     ]
    },
    {
     "name": "stderr",
     "output_type": "stream",
     "text": [
      "\n"
     ]
    },
    {
     "data": {
      "text/plain": [
       "Net(\n",
       "  (cnn_layers): Sequential(\n",
       "    (0): Conv2d(13, 64, kernel_size=(5, 5), stride=(1, 1), padding=(2, 2))\n",
       "    (1): BatchNorm2d(64, eps=1e-05, momentum=0.1, affine=True, track_running_stats=True)\n",
       "    (2): ReLU(inplace=True)\n",
       "    (3): MaxPool2d(kernel_size=(3, 3), stride=(2, 2), padding=1, dilation=1, ceil_mode=False)\n",
       "    (4): Conv2d(64, 128, kernel_size=(5, 5), stride=(1, 1), padding=(2, 2))\n",
       "    (5): BatchNorm2d(128, eps=1e-05, momentum=0.1, affine=True, track_running_stats=True)\n",
       "    (6): ReLU(inplace=True)\n",
       "    (7): MaxPool2d(kernel_size=(3, 3), stride=2, padding=1, dilation=1, ceil_mode=False)\n",
       "    (8): Conv2d(128, 256, kernel_size=(5, 5), stride=(1, 1), padding=(2, 2))\n",
       "    (9): BatchNorm2d(256, eps=1e-05, momentum=0.1, affine=True, track_running_stats=True)\n",
       "    (10): ReLU(inplace=True)\n",
       "    (11): MaxPool2d(kernel_size=(3, 3), stride=2, padding=1, dilation=1, ceil_mode=False)\n",
       "    (12): Conv2d(256, 512, kernel_size=(5, 5), stride=(1, 1), padding=(2, 2))\n",
       "    (13): BatchNorm2d(512, eps=1e-05, momentum=0.1, affine=True, track_running_stats=True)\n",
       "    (14): ReLU(inplace=True)\n",
       "    (15): MaxPool2d(kernel_size=(3, 3), stride=2, padding=1, dilation=1, ceil_mode=False)\n",
       "    (16): AdaptiveAvgPool2d(output_size=(1, 1))\n",
       "  )\n",
       "  (linear_layers): Sequential(\n",
       "    (0): Linear(in_features=512, out_features=10, bias=True)\n",
       "  )\n",
       ")"
      ]
     },
     "execution_count": 17,
     "metadata": {},
     "output_type": "execute_result"
    }
   ],
   "source": [
    "train_model(train_x,train_y, model, criterion, optimizer,\n",
    "                n_epochs=n_epochs,\n",
    "                batch_size=batch_size)"
   ]
  },
  {
   "cell_type": "code",
   "execution_count": 18,
   "metadata": {
    "scrolled": true
   },
   "outputs": [
    {
     "name": "stderr",
     "output_type": "stream",
     "text": [
      "100%|██████████| 2/2 [00:14<00:00,  7.25s/it]\n"
     ]
    },
    {
     "data": {
      "text/plain": [
       "0.8035714285714286"
      ]
     },
     "execution_count": 18,
     "metadata": {},
     "output_type": "execute_result"
    }
   ],
   "source": [
    "pred_acc(train_x,train_y,model)"
   ]
  },
  {
   "cell_type": "code",
   "execution_count": 21,
   "metadata": {},
   "outputs": [
    {
     "name": "stderr",
     "output_type": "stream",
     "text": [
      "100%|██████████| 1/1 [00:07<00:00,  7.16s/it]\n"
     ]
    },
    {
     "data": {
      "text/plain": [
       "0.0"
      ]
     },
     "execution_count": 21,
     "metadata": {},
     "output_type": "execute_result"
    }
   ],
   "source": [
    "pred_acc(val_x,val_y,model,batch_size=8)"
   ]
  },
  {
   "cell_type": "code",
   "execution_count": 117,
   "metadata": {
    "scrolled": true
   },
   "outputs": [],
   "source": [
    "for param in model.cnn_layers[0:num_freeze].parameters():\n",
    "    param.requires_grad = False\n",
    "for param in model.cnn_layers[(num_freeze+1):].parameters():\n",
    "    param.requires_grad = True\n",
    "for parameter in model.linear_layers.parameters():\n",
    "    parameter.requires_grad = True"
   ]
  },
  {
   "cell_type": "code",
   "execution_count": 36,
   "metadata": {},
   "outputs": [
    {
     "name": "stderr",
     "output_type": "stream",
     "text": [
      " 50%|█████     | 1/2 [00:12<00:12, 12.35s/it]"
     ]
    },
    {
     "name": "stdout",
     "output_type": "stream",
     "text": [
      "epoch: \t 1 \t training loss: \t 2.9449863463317887\n"
     ]
    },
    {
     "name": "stderr",
     "output_type": "stream",
     "text": [
      "100%|██████████| 2/2 [00:27<00:00, 13.76s/it]"
     ]
    },
    {
     "name": "stdout",
     "output_type": "stream",
     "text": [
      "epoch: \t 2 \t training loss: \t 2.4436558488803066\n"
     ]
    },
    {
     "name": "stderr",
     "output_type": "stream",
     "text": [
      "\n"
     ]
    },
    {
     "data": {
      "text/plain": [
       "Net(\n",
       "  (cnn_layers): Sequential(\n",
       "    (0): Conv2d(13, 64, kernel_size=(5, 5), stride=(1, 1), padding=(2, 2))\n",
       "    (1): BatchNorm2d(64, eps=1e-05, momentum=0.1, affine=True, track_running_stats=True)\n",
       "    (2): ReLU(inplace=True)\n",
       "    (3): MaxPool2d(kernel_size=(3, 3), stride=(2, 2), padding=1, dilation=1, ceil_mode=False)\n",
       "    (4): Conv2d(64, 128, kernel_size=(5, 5), stride=(1, 1), padding=(2, 2))\n",
       "    (5): BatchNorm2d(128, eps=1e-05, momentum=0.1, affine=True, track_running_stats=True)\n",
       "    (6): ReLU(inplace=True)\n",
       "    (7): MaxPool2d(kernel_size=(3, 3), stride=2, padding=1, dilation=1, ceil_mode=False)\n",
       "    (8): Conv2d(128, 256, kernel_size=(5, 5), stride=(1, 1), padding=(2, 2))\n",
       "    (9): BatchNorm2d(256, eps=1e-05, momentum=0.1, affine=True, track_running_stats=True)\n",
       "    (10): ReLU(inplace=True)\n",
       "    (11): MaxPool2d(kernel_size=(3, 3), stride=2, padding=1, dilation=1, ceil_mode=False)\n",
       "    (12): Conv2d(256, 512, kernel_size=(5, 5), stride=(1, 1), padding=(2, 2))\n",
       "    (13): BatchNorm2d(512, eps=1e-05, momentum=0.1, affine=True, track_running_stats=True)\n",
       "    (14): ReLU(inplace=True)\n",
       "    (15): MaxPool2d(kernel_size=(3, 3), stride=2, padding=1, dilation=1, ceil_mode=False)\n",
       "    (16): AdaptiveAvgPool2d(output_size=(1, 1))\n",
       "  )\n",
       "  (linear_layers): Sequential(\n",
       "    (0): Linear(in_features=512, out_features=10, bias=True)\n",
       "  )\n",
       ")"
      ]
     },
     "execution_count": 36,
     "metadata": {},
     "output_type": "execute_result"
    }
   ],
   "source": [
    "train_model(val_x,val_y, model, criterion, optimizer,\n",
    "                n_epochs=2,\n",
    "                batch_size=8)"
   ]
  },
  {
   "cell_type": "code",
   "execution_count": 37,
   "metadata": {},
   "outputs": [],
   "source": [
    "#torch.save(model,'/Volumes/ksankaran/sen12ms_subsample2/smaller_subset/model_cbr_trained.pt')"
   ]
  },
  {
   "cell_type": "code",
   "execution_count": 38,
   "metadata": {
    "scrolled": true
   },
   "outputs": [
    {
     "name": "stderr",
     "output_type": "stream",
     "text": [
      "100%|██████████| 1/1 [00:06<00:00,  6.86s/it]\n"
     ]
    },
    {
     "data": {
      "text/plain": [
       "0.375"
      ]
     },
     "execution_count": 38,
     "metadata": {},
     "output_type": "execute_result"
    }
   ],
   "source": [
    "pred_acc(val_x,val_y,model,batch_size=batch_size)"
   ]
  },
  {
   "cell_type": "code",
   "execution_count": 40,
   "metadata": {
    "scrolled": true
   },
   "outputs": [
    {
     "name": "stderr",
     "output_type": "stream",
     "text": [
      "100%|██████████| 1/1 [00:03<00:00,  3.55s/it]\n"
     ]
    },
    {
     "data": {
      "text/plain": [
       "0.0"
      ]
     },
     "execution_count": 40,
     "metadata": {},
     "output_type": "execute_result"
    }
   ],
   "source": [
    "pred_acc(test_x,test_y,model,batch_size=batch_size)"
   ]
  },
  {
   "cell_type": "markdown",
   "metadata": {},
   "source": [
    "## Load and save the activations."
   ]
  },
  {
   "cell_type": "code",
   "execution_count": 133,
   "metadata": {},
   "outputs": [],
   "source": [
    "test_acts = loader_activations(DataLoader(TensorDataset(test_x,test_y)),model,model.cnn_layers)\n",
    "val_acts = loader_activations(DataLoader(TensorDataset(val_x,val_y)),model,model.cnn_layers)\n",
    "train_acts = loader_activations(DataLoader(TensorDataset(train_x,train_y)),model,model.cnn_layers)"
   ]
  },
  {
   "cell_type": "code",
   "execution_count": 153,
   "metadata": {},
   "outputs": [],
   "source": [
    "torch.save(test_acts,output_dir+'test_acts.pth')\n",
    "torch.save(val_acts,output_dir+'val_acts.pth')\n",
    "torch.save(val_acts,output_dir+'val_acts.pth')"
   ]
  },
  {
   "cell_type": "code",
   "execution_count": null,
   "metadata": {},
   "outputs": [],
   "source": [
    "torch.save(model,output_dir+\"model.pt\")"
   ]
  }
 ],
 "metadata": {
  "kernelspec": {
   "display_name": "Python 3",
   "language": "python",
   "name": "python3"
  },
  "language_info": {
   "codemirror_mode": {
    "name": "ipython",
    "version": 3
   },
   "file_extension": ".py",
   "mimetype": "text/x-python",
   "name": "python",
   "nbconvert_exporter": "python",
   "pygments_lexer": "ipython3",
   "version": "3.7.0"
  }
 },
 "nbformat": 4,
 "nbformat_minor": 4
}
