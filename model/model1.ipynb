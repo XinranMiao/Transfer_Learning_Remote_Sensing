{
 "cells": [
  {
   "cell_type": "code",
   "execution_count": 5,
   "metadata": {},
   "outputs": [],
   "source": [
    "#import Label\n",
    "#import sen12ms_dataLoader as loader\n",
    "import rasterio\n",
    "from tqdm import tqdm\n",
    "import pandas as pd\n",
    "import numpy as np\n",
    "import matplotlib.pyplot as plt\n",
    "from sklearn.model_selection import train_test_split\n",
    "%matplotlib inline\n",
    "from sklearn.cluster import KMeans"
   ]
  },
  {
   "cell_type": "code",
   "execution_count": 6,
   "metadata": {},
   "outputs": [],
   "source": [
    "import torch\n",
    "import torchvision\n",
    "import torchvision.transforms as transforms\n",
    "import torch.optim as optim\n",
    "from torch.autograd import Variable\n",
    "from torch.nn import Linear, ReLU, CrossEntropyLoss, Sequential, Conv2d, MaxPool2d, Module, Softmax, BatchNorm2d, Dropout,AdaptiveAvgPool2d\n",
    "from torch.optim import Adam, SGD\n",
    "import torch.nn.functional as F\n",
    "from torchvision import models\n",
    "\n",
    "import time\n",
    "from sklearn.metrics import accuracy_score"
   ]
  },
  {
   "cell_type": "code",
   "execution_count": 7,
   "metadata": {},
   "outputs": [],
   "source": [
    "metadata = pd.read_csv(\"/Volumes/ksankaran/sen12ms_subsample2/metadata_labels.csv\")"
   ]
  },
  {
   "cell_type": "code",
   "execution_count": 8,
   "metadata": {},
   "outputs": [],
   "source": [
    "kmeans=KMeans(n_clusters=5, random_state=0).fit(metadata[['longitude','latitude']])\n",
    "metadata['clusters']=kmeans.labels_"
   ]
  },
  {
   "cell_type": "code",
   "execution_count": 9,
   "metadata": {},
   "outputs": [
    {
     "data": {
      "text/html": [
       "<div>\n",
       "<style scoped>\n",
       "    .dataframe tbody tr th:only-of-type {\n",
       "        vertical-align: middle;\n",
       "    }\n",
       "\n",
       "    .dataframe tbody tr th {\n",
       "        vertical-align: top;\n",
       "    }\n",
       "\n",
       "    .dataframe thead th {\n",
       "        text-align: right;\n",
       "    }\n",
       "</style>\n",
       "<table border=\"1\" class=\"dataframe\">\n",
       "  <thead>\n",
       "    <tr style=\"text-align: right;\">\n",
       "      <th></th>\n",
       "      <th>Unnamed: 0</th>\n",
       "      <th>Unnamed: 0.1</th>\n",
       "      <th>image_basename</th>\n",
       "      <th>label_basename</th>\n",
       "      <th>roi</th>\n",
       "      <th>season</th>\n",
       "      <th>scene</th>\n",
       "      <th>patch</th>\n",
       "      <th>image_path</th>\n",
       "      <th>label_path</th>\n",
       "      <th>longitude</th>\n",
       "      <th>latitude</th>\n",
       "      <th>id</th>\n",
       "      <th>label_id</th>\n",
       "      <th>clusters</th>\n",
       "    </tr>\n",
       "  </thead>\n",
       "  <tbody>\n",
       "    <tr>\n",
       "      <th>0</th>\n",
       "      <td>0</td>\n",
       "      <td>1</td>\n",
       "      <td>ROIs1970_fall_s2_21_p694.tif</td>\n",
       "      <td>ROIs1970_fall_lc_21_p694.tif</td>\n",
       "      <td>ROIs1970</td>\n",
       "      <td>fall</td>\n",
       "      <td>21</td>\n",
       "      <td>p694</td>\n",
       "      <td>/Volumes/ksankaran/Sen12MS/ROIs1970_fall/s2_21...</td>\n",
       "      <td>/Volumes/ksankaran/Sen12MS/ROIs1970_fall/lc_21...</td>\n",
       "      <td>-2.08365</td>\n",
       "      <td>35.050345</td>\n",
       "      <td>131</td>\n",
       "      <td>4</td>\n",
       "      <td>3</td>\n",
       "    </tr>\n",
       "    <tr>\n",
       "      <th>1</th>\n",
       "      <td>1</td>\n",
       "      <td>2</td>\n",
       "      <td>ROIs1970_fall_s2_21_p724.tif</td>\n",
       "      <td>ROIs1970_fall_lc_21_p724.tif</td>\n",
       "      <td>ROIs1970</td>\n",
       "      <td>fall</td>\n",
       "      <td>21</td>\n",
       "      <td>p724</td>\n",
       "      <td>/Volumes/ksankaran/Sen12MS/ROIs1970_fall/s2_21...</td>\n",
       "      <td>/Volumes/ksankaran/Sen12MS/ROIs1970_fall/lc_21...</td>\n",
       "      <td>-2.08365</td>\n",
       "      <td>35.050345</td>\n",
       "      <td>131</td>\n",
       "      <td>4</td>\n",
       "      <td>3</td>\n",
       "    </tr>\n",
       "    <tr>\n",
       "      <th>2</th>\n",
       "      <td>2</td>\n",
       "      <td>3</td>\n",
       "      <td>ROIs1970_fall_s2_21_p597.tif</td>\n",
       "      <td>ROIs1970_fall_lc_21_p597.tif</td>\n",
       "      <td>ROIs1970</td>\n",
       "      <td>fall</td>\n",
       "      <td>21</td>\n",
       "      <td>p597</td>\n",
       "      <td>/Volumes/ksankaran/Sen12MS/ROIs1970_fall/s2_21...</td>\n",
       "      <td>/Volumes/ksankaran/Sen12MS/ROIs1970_fall/lc_21...</td>\n",
       "      <td>-2.08365</td>\n",
       "      <td>35.050345</td>\n",
       "      <td>131</td>\n",
       "      <td>6</td>\n",
       "      <td>3</td>\n",
       "    </tr>\n",
       "    <tr>\n",
       "      <th>3</th>\n",
       "      <td>3</td>\n",
       "      <td>4</td>\n",
       "      <td>ROIs1970_fall_s2_21_p244.tif</td>\n",
       "      <td>ROIs1970_fall_lc_21_p244.tif</td>\n",
       "      <td>ROIs1970</td>\n",
       "      <td>fall</td>\n",
       "      <td>21</td>\n",
       "      <td>p244</td>\n",
       "      <td>/Volumes/ksankaran/Sen12MS/ROIs1970_fall/s2_21...</td>\n",
       "      <td>/Volumes/ksankaran/Sen12MS/ROIs1970_fall/lc_21...</td>\n",
       "      <td>-2.08365</td>\n",
       "      <td>35.050345</td>\n",
       "      <td>131</td>\n",
       "      <td>10</td>\n",
       "      <td>3</td>\n",
       "    </tr>\n",
       "    <tr>\n",
       "      <th>4</th>\n",
       "      <td>4</td>\n",
       "      <td>5</td>\n",
       "      <td>ROIs1970_fall_s2_21_p719.tif</td>\n",
       "      <td>ROIs1970_fall_lc_21_p719.tif</td>\n",
       "      <td>ROIs1970</td>\n",
       "      <td>fall</td>\n",
       "      <td>21</td>\n",
       "      <td>p719</td>\n",
       "      <td>/Volumes/ksankaran/Sen12MS/ROIs1970_fall/s2_21...</td>\n",
       "      <td>/Volumes/ksankaran/Sen12MS/ROIs1970_fall/lc_21...</td>\n",
       "      <td>-2.08365</td>\n",
       "      <td>35.050345</td>\n",
       "      <td>131</td>\n",
       "      <td>6</td>\n",
       "      <td>3</td>\n",
       "    </tr>\n",
       "  </tbody>\n",
       "</table>\n",
       "</div>"
      ],
      "text/plain": [
       "   Unnamed: 0  Unnamed: 0.1                image_basename  \\\n",
       "0           0             1  ROIs1970_fall_s2_21_p694.tif   \n",
       "1           1             2  ROIs1970_fall_s2_21_p724.tif   \n",
       "2           2             3  ROIs1970_fall_s2_21_p597.tif   \n",
       "3           3             4  ROIs1970_fall_s2_21_p244.tif   \n",
       "4           4             5  ROIs1970_fall_s2_21_p719.tif   \n",
       "\n",
       "                 label_basename       roi season  scene patch  \\\n",
       "0  ROIs1970_fall_lc_21_p694.tif  ROIs1970   fall     21  p694   \n",
       "1  ROIs1970_fall_lc_21_p724.tif  ROIs1970   fall     21  p724   \n",
       "2  ROIs1970_fall_lc_21_p597.tif  ROIs1970   fall     21  p597   \n",
       "3  ROIs1970_fall_lc_21_p244.tif  ROIs1970   fall     21  p244   \n",
       "4  ROIs1970_fall_lc_21_p719.tif  ROIs1970   fall     21  p719   \n",
       "\n",
       "                                          image_path  \\\n",
       "0  /Volumes/ksankaran/Sen12MS/ROIs1970_fall/s2_21...   \n",
       "1  /Volumes/ksankaran/Sen12MS/ROIs1970_fall/s2_21...   \n",
       "2  /Volumes/ksankaran/Sen12MS/ROIs1970_fall/s2_21...   \n",
       "3  /Volumes/ksankaran/Sen12MS/ROIs1970_fall/s2_21...   \n",
       "4  /Volumes/ksankaran/Sen12MS/ROIs1970_fall/s2_21...   \n",
       "\n",
       "                                          label_path  longitude   latitude  \\\n",
       "0  /Volumes/ksankaran/Sen12MS/ROIs1970_fall/lc_21...   -2.08365  35.050345   \n",
       "1  /Volumes/ksankaran/Sen12MS/ROIs1970_fall/lc_21...   -2.08365  35.050345   \n",
       "2  /Volumes/ksankaran/Sen12MS/ROIs1970_fall/lc_21...   -2.08365  35.050345   \n",
       "3  /Volumes/ksankaran/Sen12MS/ROIs1970_fall/lc_21...   -2.08365  35.050345   \n",
       "4  /Volumes/ksankaran/Sen12MS/ROIs1970_fall/lc_21...   -2.08365  35.050345   \n",
       "\n",
       "    id  label_id  clusters  \n",
       "0  131         4         3  \n",
       "1  131         4         3  \n",
       "2  131         6         3  \n",
       "3  131        10         3  \n",
       "4  131         6         3  "
      ]
     },
     "execution_count": 9,
     "metadata": {},
     "output_type": "execute_result"
    }
   ],
   "source": [
    "metadata.head()"
   ]
  },
  {
   "cell_type": "code",
   "execution_count": 10,
   "metadata": {},
   "outputs": [],
   "source": [
    "X = np.load('/Volumes/ksankaran/sen12ms_subsample2/X.npy')\n",
    "y = np.load('/Volumes/ksankaran/sen12ms_subsample2/y.npy')"
   ]
  },
  {
   "cell_type": "code",
   "execution_count": 11,
   "metadata": {},
   "outputs": [
    {
     "data": {
      "text/plain": [
       "((3000, 13, 256, 256), (3000,))"
      ]
     },
     "execution_count": 11,
     "metadata": {},
     "output_type": "execute_result"
    }
   ],
   "source": [
    "X.shape,y.shape"
   ]
  },
  {
   "cell_type": "code",
   "execution_count": 12,
   "metadata": {},
   "outputs": [],
   "source": [
    "def split_data(metadata,X,y,source_cluster,test_size=0.3,random_state = 1234):\n",
    "    X_source = X[metadata.clusters == source_cluster]\n",
    "    X_source = np.array(X_source)\n",
    "    y_source = y[metadata.clusters == source_cluster]\n",
    "    y_source = np.array(y_source)\n",
    "    \n",
    "    X_target = X[metadata.clusters != source_cluster]\n",
    "    X_target = np.array(X_target)\n",
    "    y_target = y[metadata.clusters != source_cluster]\n",
    "    y_target = np.array(y_target)\n",
    "    \n",
    "    X_target_train, X_target_test, y_target_train, y_target_test = train_test_split(X_target ,\n",
    "                                                                                y_target, \n",
    "                                                                                test_size = test_size, \n",
    "                                                                                #stratify=y_target,\n",
    "                                                                                random_state = random_state)\n",
    "    return X_source, y_source, X_target_train, X_target_test,  y_target_train, y_target_test, X_target,y_target"
   ]
  },
  {
   "cell_type": "code",
   "execution_count": 13,
   "metadata": {},
   "outputs": [],
   "source": [
    "X_source, y_source, X_target_train, X_target_test,  y_target_train, y_target_test, X_target,y_target = split_data(metadata,X,y,source_cluster = 0)"
   ]
  },
  {
   "cell_type": "code",
   "execution_count": 14,
   "metadata": {},
   "outputs": [
    {
     "data": {
      "text/plain": [
       "((300, 13, 256, 256), (300,), (1890, 13, 256, 256), (810, 13, 256, 256))"
      ]
     },
     "execution_count": 14,
     "metadata": {},
     "output_type": "execute_result"
    }
   ],
   "source": [
    "(X_source.shape,y_source.shape,X_target_train.shape,X_target_test.shape)"
   ]
  },
  {
   "cell_type": "code",
   "execution_count": 15,
   "metadata": {},
   "outputs": [],
   "source": [
    "X_source = X_source.astype(float)\n",
    "X_target_train = X_target_train.astype(float)\n",
    "X_target_test = X_target_test.astype(float)"
   ]
  },
  {
   "cell_type": "code",
   "execution_count": 16,
   "metadata": {},
   "outputs": [
    {
     "data": {
      "text/plain": [
       "(torch.Size([1890, 13, 256, 256]), torch.Size([810, 13, 256, 256]))"
      ]
     },
     "execution_count": 16,
     "metadata": {},
     "output_type": "execute_result"
    }
   ],
   "source": [
    "# converting training images into torch format\n",
    "X_source = torch.from_numpy(X_source)\n",
    "X_target_train = torch.from_numpy(X_target_train)\n",
    "X_target_test = torch.from_numpy(X_target_test)\n",
    "X_target_train.shape, X_target_test.shape"
   ]
  },
  {
   "cell_type": "code",
   "execution_count": 17,
   "metadata": {},
   "outputs": [],
   "source": [
    "y_source = torch.from_numpy(y_source)\n",
    "y_target_train = torch.from_numpy(y_target_train)\n",
    "y_target_test = torch.from_numpy(y_target_test)"
   ]
  },
  {
   "cell_type": "code",
   "execution_count": 18,
   "metadata": {},
   "outputs": [],
   "source": [
    "#######################"
   ]
  },
  {
   "cell_type": "code",
   "execution_count": 19,
   "metadata": {},
   "outputs": [],
   "source": [
    "class Net(Module):   \n",
    "    def __init__(self):\n",
    "        super(Net, self).__init__()\n",
    "\n",
    "        self.cnn_layers = Sequential(\n",
    "            # Defining a 2D convolution layer\n",
    "            Conv2d(13, 64, kernel_size=(5,5), stride=1, padding=1),\n",
    "            BatchNorm2d(64),\n",
    "            ReLU(inplace=True),\n",
    "            MaxPool2d(kernel_size=(3,3), stride=(2,2)),\n",
    "            # Defining another 2D convolution layer\n",
    "            Conv2d(64, 128, kernel_size=(5,5), stride=1, padding=1),\n",
    "            BatchNorm2d(128),\n",
    "            ReLU(inplace=True),\n",
    "            MaxPool2d(kernel_size=(3,3), stride=2),\n",
    "            \n",
    "            Conv2d(128, 256, kernel_size=(5,5), stride=1, padding=1),\n",
    "            BatchNorm2d(256),\n",
    "            ReLU(inplace=True),\n",
    "            MaxPool2d(kernel_size=(3,3), stride=2),\n",
    "            \n",
    "            Conv2d(256, 512, kernel_size=(5,5), stride=1, padding=1),\n",
    "            BatchNorm2d(512),\n",
    "            ReLU(inplace=True),\n",
    "            MaxPool2d(kernel_size=(3,3), stride=2),\n",
    "        )\n",
    "        \n",
    "        self.linear = Sequential(\n",
    "            AdaptiveAvgPool2d(output_size=(1, 1)),\n",
    "            Linear(in_features=512, out_features=10, bias=True)\n",
    "        )\n",
    "\n",
    "\n",
    "    # Defining the forward pass    \n",
    "    def forward(self, x):\n",
    "        x = self.cnn_layers(x)\n",
    "        x = x.view(x.size(0), -1)\n",
    "        x = self.linear_layers(x)\n",
    "        return x\n"
   ]
  },
  {
   "cell_type": "code",
   "execution_count": 20,
   "metadata": {},
   "outputs": [
    {
     "name": "stdout",
     "output_type": "stream",
     "text": [
      "Net(\n",
      "  (cnn_layers): Sequential(\n",
      "    (0): Conv2d(13, 64, kernel_size=(5, 5), stride=(1, 1), padding=(1, 1))\n",
      "    (1): BatchNorm2d(64, eps=1e-05, momentum=0.1, affine=True, track_running_stats=True)\n",
      "    (2): ReLU(inplace=True)\n",
      "    (3): MaxPool2d(kernel_size=(3, 3), stride=(2, 2), padding=0, dilation=1, ceil_mode=False)\n",
      "    (4): Conv2d(64, 128, kernel_size=(5, 5), stride=(1, 1), padding=(1, 1))\n",
      "    (5): BatchNorm2d(128, eps=1e-05, momentum=0.1, affine=True, track_running_stats=True)\n",
      "    (6): ReLU(inplace=True)\n",
      "    (7): MaxPool2d(kernel_size=(3, 3), stride=2, padding=0, dilation=1, ceil_mode=False)\n",
      "    (8): Conv2d(128, 256, kernel_size=(5, 5), stride=(1, 1), padding=(1, 1))\n",
      "    (9): BatchNorm2d(256, eps=1e-05, momentum=0.1, affine=True, track_running_stats=True)\n",
      "    (10): ReLU(inplace=True)\n",
      "    (11): MaxPool2d(kernel_size=(3, 3), stride=2, padding=0, dilation=1, ceil_mode=False)\n",
      "    (12): Conv2d(256, 512, kernel_size=(5, 5), stride=(1, 1), padding=(1, 1))\n",
      "    (13): BatchNorm2d(512, eps=1e-05, momentum=0.1, affine=True, track_running_stats=True)\n",
      "    (14): ReLU(inplace=True)\n",
      "    (15): MaxPool2d(kernel_size=(3, 3), stride=2, padding=0, dilation=1, ceil_mode=False)\n",
      "  )\n",
      "  (linear): Sequential(\n",
      "    (0): AdaptiveAvgPool2d(output_size=(1, 1))\n",
      "    (1): Linear(in_features=512, out_features=10, bias=True)\n",
      "  )\n",
      ")\n"
     ]
    }
   ],
   "source": [
    "# defining the model\n",
    "model = Net()\n",
    "# defining the optimizer\n",
    "optimizer = Adam(model.parameters(), lr=0.0001)\n",
    "# defining the loss function\n",
    "criterion = CrossEntropyLoss()\n",
    "# checking if GPU is available\n",
    "if torch.cuda.is_available():\n",
    "    model = model.cuda()\n",
    "    criterion = criterion.cuda()\n",
    "\n",
    "print(model)"
   ]
  },
  {
   "cell_type": "code",
   "execution_count": 21,
   "metadata": {},
   "outputs": [],
   "source": [
    "model = model.double()"
   ]
  },
  {
   "cell_type": "code",
   "execution_count": null,
   "metadata": {},
   "outputs": [
    {
     "name": "stderr",
     "output_type": "stream",
     "text": [
      "\r",
      "  0%|          | 0/3 [00:00<?, ?it/s]"
     ]
    }
   ],
   "source": [
    "# batch size of the model\n",
    "batch_size = 128\n",
    "\n",
    "# number of epochs to train the model\n",
    "n_epochs = 10\n",
    "\n",
    "for epoch in range(1, n_epochs+1):\n",
    "\n",
    "    # keep track of training and validation loss\n",
    "    train_loss = 0.0\n",
    "        \n",
    "    permutation = torch.randperm(X_source.size()[0])\n",
    "\n",
    "    training_loss = []\n",
    "    for i in tqdm(range(0,X_source.size()[0], batch_size)):\n",
    "\n",
    "        indices = permutation[i:i+batch_size]\n",
    "        batch_x, batch_y = X_source[indices],y_source[indices]\n",
    "        \n",
    "        if torch.cuda.is_available():\n",
    "            batch_x, batch_y = batch_x.cuda(), batch_y.cuda()\n",
    "        \n",
    "        optimizer.zero_grad()\n",
    "\n",
    "        outputs = model(batch_x)\n",
    "        loss = criterion(outputs,batch_y)\n",
    "\n",
    "        training_loss.append(loss.item())\n",
    "        loss.backward()\n",
    "        optimizer.step()\n",
    "        \n",
    "    training_loss = np.average(training_loss)\n",
    "    print('epoch: \\t', epoch, '\\t training loss: \\t', training_loss)"
   ]
  },
  {
   "cell_type": "code",
   "execution_count": null,
   "metadata": {},
   "outputs": [],
   "source": []
  }
 ],
 "metadata": {
  "kernelspec": {
   "display_name": "Python 3",
   "language": "python",
   "name": "python3"
  },
  "language_info": {
   "codemirror_mode": {
    "name": "ipython",
    "version": 3
   },
   "file_extension": ".py",
   "mimetype": "text/x-python",
   "name": "python",
   "nbconvert_exporter": "python",
   "pygments_lexer": "ipython3",
   "version": "3.7.0"
  }
 },
 "nbformat": 4,
 "nbformat_minor": 4
}
