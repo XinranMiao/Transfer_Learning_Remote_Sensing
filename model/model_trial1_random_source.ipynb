{
 "cells": [
  {
   "cell_type": "code",
   "execution_count": 1,
   "metadata": {},
   "outputs": [],
   "source": [
    "#import Label\n",
    "#import sen12ms_dataLoader as loader\n",
    "import rasterio\n",
    "from tqdm import tqdm\n",
    "import pandas as pd\n",
    "import numpy as np\n",
    "import matplotlib.pyplot as plt\n",
    "from sklearn.model_selection import train_test_split\n",
    "%matplotlib inline\n",
    "from sklearn.cluster import KMeans"
   ]
  },
  {
   "cell_type": "code",
   "execution_count": 4,
   "metadata": {},
   "outputs": [],
   "source": [
    "import torch\n",
    "import torchvision\n",
    "import torchvision.transforms as transforms\n",
    "import torch.optim as optim\n",
    "from torch.autograd import Variable\n",
    "from torch.nn import Linear, ReLU, CrossEntropyLoss, Sequential, Conv2d, MaxPool2d, Module, Softmax, BatchNorm2d, Dropout,AdaptiveAvgPool2d\n",
    "from torch.optim import Adam, SGD\n",
    "import torch.nn.functional as F\n",
    "from torchvision import models\n",
    "\n",
    "import time\n",
    "from sklearn.metrics import accuracy_score"
   ]
  },
  {
   "cell_type": "code",
   "execution_count": 5,
   "metadata": {},
   "outputs": [],
   "source": [
    "metadata = pd.read_csv(\"/Volumes/ksankaran/sen12ms_subsample2/metadata_labels.csv\")"
   ]
  },
  {
   "cell_type": "code",
   "execution_count": 6,
   "metadata": {},
   "outputs": [],
   "source": [
    "kmeans=KMeans(n_clusters=5, random_state=0).fit(metadata[['longitude','latitude']])\n",
    "metadata['clusters']=kmeans.labels_"
   ]
  },
  {
   "cell_type": "code",
   "execution_count": 7,
   "metadata": {},
   "outputs": [
    {
     "data": {
      "text/html": [
       "<div>\n",
       "<style scoped>\n",
       "    .dataframe tbody tr th:only-of-type {\n",
       "        vertical-align: middle;\n",
       "    }\n",
       "\n",
       "    .dataframe tbody tr th {\n",
       "        vertical-align: top;\n",
       "    }\n",
       "\n",
       "    .dataframe thead th {\n",
       "        text-align: right;\n",
       "    }\n",
       "</style>\n",
       "<table border=\"1\" class=\"dataframe\">\n",
       "  <thead>\n",
       "    <tr style=\"text-align: right;\">\n",
       "      <th></th>\n",
       "      <th>Unnamed: 0</th>\n",
       "      <th>Unnamed: 0.1</th>\n",
       "      <th>image_basename</th>\n",
       "      <th>label_basename</th>\n",
       "      <th>roi</th>\n",
       "      <th>season</th>\n",
       "      <th>scene</th>\n",
       "      <th>patch</th>\n",
       "      <th>image_path</th>\n",
       "      <th>label_path</th>\n",
       "      <th>longitude</th>\n",
       "      <th>latitude</th>\n",
       "      <th>id</th>\n",
       "      <th>label_id</th>\n",
       "      <th>clusters</th>\n",
       "    </tr>\n",
       "  </thead>\n",
       "  <tbody>\n",
       "    <tr>\n",
       "      <th>0</th>\n",
       "      <td>0</td>\n",
       "      <td>1</td>\n",
       "      <td>ROIs1970_fall_s2_21_p694.tif</td>\n",
       "      <td>ROIs1970_fall_lc_21_p694.tif</td>\n",
       "      <td>ROIs1970</td>\n",
       "      <td>fall</td>\n",
       "      <td>21</td>\n",
       "      <td>p694</td>\n",
       "      <td>/Volumes/ksankaran/Sen12MS/ROIs1970_fall/s2_21...</td>\n",
       "      <td>/Volumes/ksankaran/Sen12MS/ROIs1970_fall/lc_21...</td>\n",
       "      <td>-2.08365</td>\n",
       "      <td>35.050345</td>\n",
       "      <td>131</td>\n",
       "      <td>4</td>\n",
       "      <td>3</td>\n",
       "    </tr>\n",
       "    <tr>\n",
       "      <th>1</th>\n",
       "      <td>1</td>\n",
       "      <td>2</td>\n",
       "      <td>ROIs1970_fall_s2_21_p724.tif</td>\n",
       "      <td>ROIs1970_fall_lc_21_p724.tif</td>\n",
       "      <td>ROIs1970</td>\n",
       "      <td>fall</td>\n",
       "      <td>21</td>\n",
       "      <td>p724</td>\n",
       "      <td>/Volumes/ksankaran/Sen12MS/ROIs1970_fall/s2_21...</td>\n",
       "      <td>/Volumes/ksankaran/Sen12MS/ROIs1970_fall/lc_21...</td>\n",
       "      <td>-2.08365</td>\n",
       "      <td>35.050345</td>\n",
       "      <td>131</td>\n",
       "      <td>4</td>\n",
       "      <td>3</td>\n",
       "    </tr>\n",
       "    <tr>\n",
       "      <th>2</th>\n",
       "      <td>2</td>\n",
       "      <td>3</td>\n",
       "      <td>ROIs1970_fall_s2_21_p597.tif</td>\n",
       "      <td>ROIs1970_fall_lc_21_p597.tif</td>\n",
       "      <td>ROIs1970</td>\n",
       "      <td>fall</td>\n",
       "      <td>21</td>\n",
       "      <td>p597</td>\n",
       "      <td>/Volumes/ksankaran/Sen12MS/ROIs1970_fall/s2_21...</td>\n",
       "      <td>/Volumes/ksankaran/Sen12MS/ROIs1970_fall/lc_21...</td>\n",
       "      <td>-2.08365</td>\n",
       "      <td>35.050345</td>\n",
       "      <td>131</td>\n",
       "      <td>6</td>\n",
       "      <td>3</td>\n",
       "    </tr>\n",
       "    <tr>\n",
       "      <th>3</th>\n",
       "      <td>3</td>\n",
       "      <td>4</td>\n",
       "      <td>ROIs1970_fall_s2_21_p244.tif</td>\n",
       "      <td>ROIs1970_fall_lc_21_p244.tif</td>\n",
       "      <td>ROIs1970</td>\n",
       "      <td>fall</td>\n",
       "      <td>21</td>\n",
       "      <td>p244</td>\n",
       "      <td>/Volumes/ksankaran/Sen12MS/ROIs1970_fall/s2_21...</td>\n",
       "      <td>/Volumes/ksankaran/Sen12MS/ROIs1970_fall/lc_21...</td>\n",
       "      <td>-2.08365</td>\n",
       "      <td>35.050345</td>\n",
       "      <td>131</td>\n",
       "      <td>10</td>\n",
       "      <td>3</td>\n",
       "    </tr>\n",
       "    <tr>\n",
       "      <th>4</th>\n",
       "      <td>4</td>\n",
       "      <td>5</td>\n",
       "      <td>ROIs1970_fall_s2_21_p719.tif</td>\n",
       "      <td>ROIs1970_fall_lc_21_p719.tif</td>\n",
       "      <td>ROIs1970</td>\n",
       "      <td>fall</td>\n",
       "      <td>21</td>\n",
       "      <td>p719</td>\n",
       "      <td>/Volumes/ksankaran/Sen12MS/ROIs1970_fall/s2_21...</td>\n",
       "      <td>/Volumes/ksankaran/Sen12MS/ROIs1970_fall/lc_21...</td>\n",
       "      <td>-2.08365</td>\n",
       "      <td>35.050345</td>\n",
       "      <td>131</td>\n",
       "      <td>6</td>\n",
       "      <td>3</td>\n",
       "    </tr>\n",
       "  </tbody>\n",
       "</table>\n",
       "</div>"
      ],
      "text/plain": [
       "   Unnamed: 0  Unnamed: 0.1                image_basename  \\\n",
       "0           0             1  ROIs1970_fall_s2_21_p694.tif   \n",
       "1           1             2  ROIs1970_fall_s2_21_p724.tif   \n",
       "2           2             3  ROIs1970_fall_s2_21_p597.tif   \n",
       "3           3             4  ROIs1970_fall_s2_21_p244.tif   \n",
       "4           4             5  ROIs1970_fall_s2_21_p719.tif   \n",
       "\n",
       "                 label_basename       roi season  scene patch  \\\n",
       "0  ROIs1970_fall_lc_21_p694.tif  ROIs1970   fall     21  p694   \n",
       "1  ROIs1970_fall_lc_21_p724.tif  ROIs1970   fall     21  p724   \n",
       "2  ROIs1970_fall_lc_21_p597.tif  ROIs1970   fall     21  p597   \n",
       "3  ROIs1970_fall_lc_21_p244.tif  ROIs1970   fall     21  p244   \n",
       "4  ROIs1970_fall_lc_21_p719.tif  ROIs1970   fall     21  p719   \n",
       "\n",
       "                                          image_path  \\\n",
       "0  /Volumes/ksankaran/Sen12MS/ROIs1970_fall/s2_21...   \n",
       "1  /Volumes/ksankaran/Sen12MS/ROIs1970_fall/s2_21...   \n",
       "2  /Volumes/ksankaran/Sen12MS/ROIs1970_fall/s2_21...   \n",
       "3  /Volumes/ksankaran/Sen12MS/ROIs1970_fall/s2_21...   \n",
       "4  /Volumes/ksankaran/Sen12MS/ROIs1970_fall/s2_21...   \n",
       "\n",
       "                                          label_path  longitude   latitude  \\\n",
       "0  /Volumes/ksankaran/Sen12MS/ROIs1970_fall/lc_21...   -2.08365  35.050345   \n",
       "1  /Volumes/ksankaran/Sen12MS/ROIs1970_fall/lc_21...   -2.08365  35.050345   \n",
       "2  /Volumes/ksankaran/Sen12MS/ROIs1970_fall/lc_21...   -2.08365  35.050345   \n",
       "3  /Volumes/ksankaran/Sen12MS/ROIs1970_fall/lc_21...   -2.08365  35.050345   \n",
       "4  /Volumes/ksankaran/Sen12MS/ROIs1970_fall/lc_21...   -2.08365  35.050345   \n",
       "\n",
       "    id  label_id  clusters  \n",
       "0  131         4         3  \n",
       "1  131         4         3  \n",
       "2  131         6         3  \n",
       "3  131        10         3  \n",
       "4  131         6         3  "
      ]
     },
     "execution_count": 7,
     "metadata": {},
     "output_type": "execute_result"
    }
   ],
   "source": [
    "metadata.head()"
   ]
  },
  {
   "cell_type": "code",
   "execution_count": 8,
   "metadata": {},
   "outputs": [],
   "source": [
    "X = np.load('X.npy')\n",
    "y = np.load('y.npy')"
   ]
  },
  {
   "cell_type": "code",
   "execution_count": 9,
   "metadata": {},
   "outputs": [
    {
     "data": {
      "text/plain": [
       "((3000, 13, 256, 256), (3000,))"
      ]
     },
     "execution_count": 9,
     "metadata": {},
     "output_type": "execute_result"
    }
   ],
   "source": [
    "X.shape,y.shape"
   ]
  },
  {
   "cell_type": "code",
   "execution_count": 10,
   "metadata": {},
   "outputs": [],
   "source": [
    "def split_data(metadata,X,y,source_cluster,test_size=0.3,random_state = 1234):\n",
    "    X_source = X[metadata.clusters == source_cluster]\n",
    "    X_source = np.array(X_source)\n",
    "    y_source = y[metadata.clusters == source_cluster]\n",
    "    y_source = np.array(y_source)\n",
    "    \n",
    "    X_target = X[metadata.clusters != source_cluster]\n",
    "    X_target = np.array(X_target)\n",
    "    y_target = y[metadata.clusters != source_cluster]\n",
    "    y_target = np.array(y_target)\n",
    "    \n",
    "    X_target_train, X_target_test, y_target_train, y_target_test = train_test_split(X_target ,\n",
    "                                                                                y_target, \n",
    "                                                                                test_size = test_size, \n",
    "                                                                                #stratify=y_target,\n",
    "                                                                                random_state = random_state)\n",
    "    return X_source, y_source, X_target_train, X_target_test,  y_target_train, y_target_test, X_target,y_target"
   ]
  },
  {
   "cell_type": "code",
   "execution_count": 11,
   "metadata": {},
   "outputs": [],
   "source": [
    "X_source, y_source, X_target_train, X_target_test,  y_target_train, y_target_test, X_target,y_target = split_data(metadata,X,y,source_cluster = 0,test_size = 0.01)"
   ]
  },
  {
   "cell_type": "code",
   "execution_count": 12,
   "metadata": {},
   "outputs": [],
   "source": [
    "#np.save('X_target_test',X_target_test)\n",
    "#np.save('y_target_test',y_target_test)\n",
    "#X_target_test = np.load('X_target_test.npy')\n",
    "#y_target_test = np.load('y_target_test.npy')"
   ]
  },
  {
   "cell_type": "code",
   "execution_count": 13,
   "metadata": {},
   "outputs": [
    {
     "data": {
      "text/plain": [
       "((300, 13, 256, 256), (300,), (2673, 13, 256, 256), (27, 13, 256, 256))"
      ]
     },
     "execution_count": 13,
     "metadata": {},
     "output_type": "execute_result"
    }
   ],
   "source": [
    "(X_source.shape,y_source.shape,X_target_train.shape,X_target_test.shape)"
   ]
  },
  {
   "cell_type": "code",
   "execution_count": 28,
   "metadata": {},
   "outputs": [],
   "source": [
    "#np.save('/Volumes/ksankaran/sen12ms_subsample2/X_source',X_source)\n",
    "#np.save('/Volumes/ksankaran/sen12ms_subsample2/y_source',y_source)"
   ]
  },
  {
   "cell_type": "code",
   "execution_count": 14,
   "metadata": {},
   "outputs": [
    {
     "data": {
      "text/plain": [
       "array([3, 3, 3, 3, 3, 3, 3, 3, 5, 3, 3, 3, 3, 3, 3, 3, 3, 3, 3, 3, 3, 3,\n",
       "       3, 3, 3, 3, 3, 3, 3, 3, 3, 3, 3, 5, 3, 3, 3, 3, 3, 3, 3, 3, 5, 5,\n",
       "       3, 5, 3, 3, 3, 3, 3, 3, 3, 3, 3, 3, 3, 3, 3, 5, 3, 3, 3, 3, 3, 5,\n",
       "       3, 3, 3, 5, 3, 3, 3, 3, 3, 3, 3, 3, 3, 3, 3, 3, 3, 3, 3, 3, 3, 5,\n",
       "       3, 3, 3, 3, 3, 3, 3, 3, 3, 3, 3, 3, 3, 5, 3, 3, 3, 3, 3, 3, 3, 3,\n",
       "       3, 3, 3, 5, 5, 3, 3, 3, 3, 3, 3, 3, 3, 3, 5, 3, 3, 3, 5, 3, 3, 3,\n",
       "       3, 3, 3, 3, 3, 3, 3, 3, 3, 3, 3, 3, 3, 3, 3, 5, 3, 3, 2, 4, 2, 2,\n",
       "       2, 2, 2, 2, 4, 2, 2, 5, 2, 2, 2, 2, 4, 2, 2, 2, 2, 4, 2, 2, 2, 2,\n",
       "       4, 2, 2, 2, 2, 4, 4, 2, 2, 2, 4, 2, 2, 4, 2, 2, 2, 2, 2, 2, 2, 4,\n",
       "       2, 2, 2, 4, 2, 2, 2, 2, 2, 4, 2, 2, 4, 2, 2, 4, 4, 2, 2, 2, 2, 2,\n",
       "       2, 2, 2, 2, 2, 2, 2, 2, 2, 2, 2, 2, 2, 2, 2, 2, 2, 2, 2, 4, 2, 4,\n",
       "       2, 9, 4, 2, 2, 4, 4, 4, 4, 2, 2, 2, 2, 2, 2, 4, 4, 4, 4, 4, 2, 2,\n",
       "       2, 2, 4, 4, 2, 2, 2, 4, 2, 2, 2, 9, 2, 2, 2, 4, 2, 2, 2, 2, 2, 4,\n",
       "       2, 2, 4, 2, 2, 2, 2, 2, 2, 2, 2, 2, 4, 2])"
      ]
     },
     "execution_count": 14,
     "metadata": {},
     "output_type": "execute_result"
    }
   ],
   "source": [
    "y_source"
   ]
  },
  {
   "cell_type": "code",
   "execution_count": 15,
   "metadata": {},
   "outputs": [],
   "source": [
    "y_source_copy = np.copy(y_source)\n",
    "y_target_train = np.copy(y_target_train)\n",
    "y_target_test = np.copy(y_target_test)"
   ]
  },
  {
   "cell_type": "code",
   "execution_count": 16,
   "metadata": {},
   "outputs": [],
   "source": [
    "y_source = y_source - y_source.min()"
   ]
  },
  {
   "cell_type": "code",
   "execution_count": 17,
   "metadata": {},
   "outputs": [],
   "source": [
    "X_source = X_source.astype(float)\n",
    "X_target_train = X_target_train.astype(float)\n",
    "X_target_test = X_target_test.astype(float)"
   ]
  },
  {
   "cell_type": "code",
   "execution_count": 18,
   "metadata": {},
   "outputs": [
    {
     "data": {
      "text/plain": [
       "(torch.Size([2673, 13, 256, 256]), torch.Size([27, 13, 256, 256]))"
      ]
     },
     "execution_count": 18,
     "metadata": {},
     "output_type": "execute_result"
    }
   ],
   "source": [
    "# converting training images into torch format\n",
    "X_source = torch.from_numpy(X_source)\n",
    "X_target_train = torch.from_numpy(X_target_train)\n",
    "X_target_test = torch.from_numpy(X_target_test)\n",
    "X_target_train.shape, X_target_test.shape"
   ]
  },
  {
   "cell_type": "code",
   "execution_count": 19,
   "metadata": {},
   "outputs": [],
   "source": [
    "y_source = torch.from_numpy(y_source)\n",
    "y_target_train = torch.from_numpy(y_target_train)\n",
    "y_target_test = torch.from_numpy(y_target_test)"
   ]
  },
  {
   "cell_type": "code",
   "execution_count": 15,
   "metadata": {},
   "outputs": [],
   "source": [
    "#######################"
   ]
  },
  {
   "cell_type": "code",
   "execution_count": 26,
   "metadata": {},
   "outputs": [],
   "source": [
    "class Net(Module):   \n",
    "    def __init__(self):\n",
    "        super(Net, self).__init__()\n",
    "\n",
    "        self.cnn_layers = Sequential(\n",
    "            # Defining a 2D convolution layer\n",
    "            Conv2d(13, 64, kernel_size=(5,5), stride=1, padding=2),\n",
    "            BatchNorm2d(64),\n",
    "            ReLU(inplace=True),\n",
    "            MaxPool2d(kernel_size=(3,3), stride=(2,2),padding = 1),\n",
    "            \n",
    "            Conv2d(64, 128, kernel_size=(5,5), stride=1, padding=2),\n",
    "            BatchNorm2d(128),\n",
    "            ReLU(inplace=True),\n",
    "            MaxPool2d(kernel_size=(3,3), stride=2, padding = 1),\n",
    "            \n",
    "            Conv2d(128, 256, kernel_size=(5,5), stride=1, padding=2),\n",
    "            BatchNorm2d(256),\n",
    "            ReLU(inplace=True),\n",
    "            MaxPool2d(kernel_size=(3,3), stride=2, padding = 1),\n",
    "            \n",
    "            Conv2d(256, 512, kernel_size=(5,5), stride=1, padding=2),\n",
    "            BatchNorm2d(512),\n",
    "            ReLU(inplace=True),\n",
    "            MaxPool2d(kernel_size=(3,3), stride=2, padding = 1),\n",
    "            \n",
    "            AdaptiveAvgPool2d((1, 1))\n",
    "        )\n",
    "        self.linear_layers = Sequential(\n",
    "            #AdaptiveAvgPool2d(output_size=(1, 1)),\n",
    "            Linear(in_features= 512, out_features=8, bias = True)\n",
    "        )\n",
    "        \n",
    "        #self.linear = Sequential(\n",
    "         #   AdaptiveAvgPool2d(output_size=(1, 1)),\n",
    "        #    Linear(in_features=512, out_features=10, bias=True)\n",
    "        #)\n",
    "\n",
    "\n",
    "    # Defining the forward pass    \n",
    "    def forward(self, x):\n",
    "        x = self.cnn_layers(x)\n",
    "        x = x.view(x.size(0), -1)\n",
    "        x = self.linear_layers(x)\n",
    "        return x\n",
    "\n"
   ]
  },
  {
   "cell_type": "code",
   "execution_count": 27,
   "metadata": {},
   "outputs": [
    {
     "name": "stdout",
     "output_type": "stream",
     "text": [
      "Net(\n",
      "  (cnn_layers): Sequential(\n",
      "    (0): Conv2d(13, 64, kernel_size=(5, 5), stride=(1, 1), padding=(2, 2))\n",
      "    (1): BatchNorm2d(64, eps=1e-05, momentum=0.1, affine=True, track_running_stats=True)\n",
      "    (2): ReLU(inplace=True)\n",
      "    (3): MaxPool2d(kernel_size=(3, 3), stride=(2, 2), padding=1, dilation=1, ceil_mode=False)\n",
      "    (4): Conv2d(64, 128, kernel_size=(5, 5), stride=(1, 1), padding=(2, 2))\n",
      "    (5): BatchNorm2d(128, eps=1e-05, momentum=0.1, affine=True, track_running_stats=True)\n",
      "    (6): ReLU(inplace=True)\n",
      "    (7): MaxPool2d(kernel_size=(3, 3), stride=2, padding=1, dilation=1, ceil_mode=False)\n",
      "    (8): Conv2d(128, 256, kernel_size=(5, 5), stride=(1, 1), padding=(2, 2))\n",
      "    (9): BatchNorm2d(256, eps=1e-05, momentum=0.1, affine=True, track_running_stats=True)\n",
      "    (10): ReLU(inplace=True)\n",
      "    (11): MaxPool2d(kernel_size=(3, 3), stride=2, padding=1, dilation=1, ceil_mode=False)\n",
      "    (12): Conv2d(256, 512, kernel_size=(5, 5), stride=(1, 1), padding=(2, 2))\n",
      "    (13): BatchNorm2d(512, eps=1e-05, momentum=0.1, affine=True, track_running_stats=True)\n",
      "    (14): ReLU(inplace=True)\n",
      "    (15): MaxPool2d(kernel_size=(3, 3), stride=2, padding=1, dilation=1, ceil_mode=False)\n",
      "    (16): AdaptiveAvgPool2d(output_size=(1, 1))\n",
      "  )\n",
      "  (linear_layers): Sequential(\n",
      "    (0): Linear(in_features=512, out_features=8, bias=True)\n",
      "  )\n",
      ")\n"
     ]
    }
   ],
   "source": [
    "# defining the model\n",
    "model = Net()\n",
    "# defining the optimizer\n",
    "optimizer = Adam(model.parameters(), lr=0.0001)\n",
    "# defining the loss function\n",
    "criterion = CrossEntropyLoss()\n",
    "# checking if GPU is available\n",
    "if torch.cuda.is_available():\n",
    "    model = model.cuda()\n",
    "    criterion = criterion.cuda()\n",
    "\n",
    "print(model)"
   ]
  },
  {
   "cell_type": "code",
   "execution_count": 28,
   "metadata": {},
   "outputs": [],
   "source": [
    "model = model.double()"
   ]
  },
  {
   "cell_type": "code",
   "execution_count": 29,
   "metadata": {},
   "outputs": [
    {
     "data": {
      "text/plain": [
       "torch.Size([27, 13, 256, 256])"
      ]
     },
     "execution_count": 29,
     "metadata": {},
     "output_type": "execute_result"
    }
   ],
   "source": [
    "X_target_test.size()"
   ]
  },
  {
   "cell_type": "code",
   "execution_count": 30,
   "metadata": {},
   "outputs": [
    {
     "name": "stderr",
     "output_type": "stream",
     "text": [
      "  0%|          | 0/38 [00:00<?, ?it/s]"
     ]
    },
    {
     "name": "stdout",
     "output_type": "stream",
     "text": [
      "epoch 1 \n",
      "\n",
      "i= 0 \n",
      "\n",
      "1\n",
      "2\n",
      "3\n",
      "torch.Size([8, 8])\n",
      "torch.Size([8])\n",
      "4\n"
     ]
    },
    {
     "name": "stderr",
     "output_type": "stream",
     "text": [
      "  3%|▎         | 1/38 [00:45<27:48, 45.10s/it]"
     ]
    },
    {
     "name": "stdout",
     "output_type": "stream",
     "text": [
      "i= 8 \n",
      "\n",
      "1\n",
      "2\n",
      "3\n",
      "torch.Size([8, 8])\n",
      "torch.Size([8])\n",
      "4\n"
     ]
    },
    {
     "name": "stderr",
     "output_type": "stream",
     "text": [
      "  5%|▌         | 2/38 [01:22<25:39, 42.77s/it]"
     ]
    },
    {
     "name": "stdout",
     "output_type": "stream",
     "text": [
      "i= 16 \n",
      "\n",
      "1\n",
      "2\n",
      "3\n",
      "torch.Size([8, 8])\n",
      "torch.Size([8])\n",
      "4\n"
     ]
    },
    {
     "name": "stderr",
     "output_type": "stream",
     "text": [
      "  8%|▊         | 3/38 [01:59<23:55, 41.02s/it]"
     ]
    },
    {
     "name": "stdout",
     "output_type": "stream",
     "text": [
      "i= 24 \n",
      "\n",
      "1\n",
      "2\n",
      "3\n",
      "torch.Size([8, 8])\n",
      "torch.Size([8])\n",
      "4\n"
     ]
    },
    {
     "name": "stderr",
     "output_type": "stream",
     "text": [
      " 11%|█         | 4/38 [02:37<22:41, 40.04s/it]"
     ]
    },
    {
     "name": "stdout",
     "output_type": "stream",
     "text": [
      "i= 32 \n",
      "\n",
      "1\n",
      "2\n",
      "3\n",
      "torch.Size([8, 8])\n",
      "torch.Size([8])\n",
      "4\n"
     ]
    },
    {
     "name": "stderr",
     "output_type": "stream",
     "text": [
      " 13%|█▎        | 5/38 [03:17<22:04, 40.15s/it]"
     ]
    },
    {
     "name": "stdout",
     "output_type": "stream",
     "text": [
      "i= 40 \n",
      "\n",
      "1\n",
      "2\n",
      "3\n",
      "torch.Size([8, 8])\n",
      "torch.Size([8])\n",
      "4\n"
     ]
    },
    {
     "name": "stderr",
     "output_type": "stream",
     "text": [
      " 16%|█▌        | 6/38 [03:55<21:07, 39.61s/it]"
     ]
    },
    {
     "name": "stdout",
     "output_type": "stream",
     "text": [
      "i= 48 \n",
      "\n",
      "1\n",
      "2\n",
      "3\n",
      "torch.Size([8, 8])\n",
      "torch.Size([8])\n",
      "4\n"
     ]
    },
    {
     "name": "stderr",
     "output_type": "stream",
     "text": [
      " 18%|█▊        | 7/38 [04:31<19:51, 38.43s/it]"
     ]
    },
    {
     "name": "stdout",
     "output_type": "stream",
     "text": [
      "i= 56 \n",
      "\n",
      "1\n",
      "2\n",
      "3\n",
      "torch.Size([8, 8])\n",
      "torch.Size([8])\n",
      "4\n"
     ]
    },
    {
     "name": "stderr",
     "output_type": "stream",
     "text": [
      " 21%|██        | 8/38 [05:07<18:53, 37.80s/it]"
     ]
    },
    {
     "name": "stdout",
     "output_type": "stream",
     "text": [
      "i= 64 \n",
      "\n",
      "1\n",
      "2\n",
      "3\n",
      "torch.Size([8, 8])\n",
      "torch.Size([8])\n",
      "4\n"
     ]
    },
    {
     "name": "stderr",
     "output_type": "stream",
     "text": [
      " 24%|██▎       | 9/38 [05:43<18:01, 37.29s/it]"
     ]
    },
    {
     "name": "stdout",
     "output_type": "stream",
     "text": [
      "i= 72 \n",
      "\n",
      "1\n",
      "2\n",
      "3\n",
      "torch.Size([8, 8])\n",
      "torch.Size([8])\n",
      "4\n"
     ]
    },
    {
     "name": "stderr",
     "output_type": "stream",
     "text": [
      " 26%|██▋       | 10/38 [06:21<17:27, 37.40s/it]"
     ]
    },
    {
     "name": "stdout",
     "output_type": "stream",
     "text": [
      "i= 80 \n",
      "\n",
      "1\n",
      "2\n",
      "3\n",
      "torch.Size([8, 8])\n",
      "torch.Size([8])\n",
      "4\n"
     ]
    },
    {
     "name": "stderr",
     "output_type": "stream",
     "text": [
      " 29%|██▉       | 11/38 [07:01<17:06, 38.01s/it]"
     ]
    },
    {
     "name": "stdout",
     "output_type": "stream",
     "text": [
      "i= 88 \n",
      "\n",
      "1\n",
      "2\n",
      "3\n",
      "torch.Size([8, 8])\n",
      "torch.Size([8])\n",
      "4\n"
     ]
    },
    {
     "name": "stderr",
     "output_type": "stream",
     "text": [
      " 32%|███▏      | 12/38 [07:35<16:02, 37.04s/it]"
     ]
    },
    {
     "name": "stdout",
     "output_type": "stream",
     "text": [
      "i= 96 \n",
      "\n",
      "1\n",
      "2\n",
      "3\n",
      "torch.Size([8, 8])\n",
      "torch.Size([8])\n",
      "4\n"
     ]
    },
    {
     "name": "stderr",
     "output_type": "stream",
     "text": [
      " 34%|███▍      | 13/38 [08:16<15:54, 38.16s/it]"
     ]
    },
    {
     "name": "stdout",
     "output_type": "stream",
     "text": [
      "i= 104 \n",
      "\n",
      "1\n",
      "2\n",
      "3\n",
      "torch.Size([8, 8])\n",
      "torch.Size([8])\n",
      "4\n"
     ]
    },
    {
     "name": "stderr",
     "output_type": "stream",
     "text": [
      " 37%|███▋      | 14/38 [08:57<15:34, 38.94s/it]"
     ]
    },
    {
     "name": "stdout",
     "output_type": "stream",
     "text": [
      "i= 112 \n",
      "\n",
      "1\n",
      "2\n",
      "3\n",
      "torch.Size([8, 8])\n",
      "torch.Size([8])\n",
      "4\n"
     ]
    },
    {
     "name": "stderr",
     "output_type": "stream",
     "text": [
      " 39%|███▉      | 15/38 [09:33<14:37, 38.17s/it]"
     ]
    },
    {
     "name": "stdout",
     "output_type": "stream",
     "text": [
      "i= 120 \n",
      "\n",
      "1\n",
      "2\n",
      "3\n",
      "torch.Size([8, 8])\n",
      "torch.Size([8])\n",
      "4\n"
     ]
    },
    {
     "name": "stderr",
     "output_type": "stream",
     "text": [
      " 42%|████▏     | 16/38 [10:10<13:48, 37.67s/it]"
     ]
    },
    {
     "name": "stdout",
     "output_type": "stream",
     "text": [
      "i= 128 \n",
      "\n",
      "1\n",
      "2\n",
      "3\n",
      "torch.Size([8, 8])\n",
      "torch.Size([8])\n",
      "4\n"
     ]
    },
    {
     "name": "stderr",
     "output_type": "stream",
     "text": [
      " 45%|████▍     | 17/38 [10:50<13:27, 38.47s/it]"
     ]
    },
    {
     "name": "stdout",
     "output_type": "stream",
     "text": [
      "i= 136 \n",
      "\n",
      "1\n",
      "2\n",
      "3\n",
      "torch.Size([8, 8])\n",
      "torch.Size([8])\n",
      "4\n"
     ]
    },
    {
     "name": "stderr",
     "output_type": "stream",
     "text": [
      " 47%|████▋     | 18/38 [11:28<12:48, 38.43s/it]"
     ]
    },
    {
     "name": "stdout",
     "output_type": "stream",
     "text": [
      "i= 144 \n",
      "\n",
      "1\n",
      "2\n",
      "3\n",
      "torch.Size([8, 8])\n",
      "torch.Size([8])\n",
      "4\n"
     ]
    },
    {
     "name": "stderr",
     "output_type": "stream",
     "text": [
      " 50%|█████     | 19/38 [12:03<11:46, 37.20s/it]"
     ]
    },
    {
     "name": "stdout",
     "output_type": "stream",
     "text": [
      "i= 152 \n",
      "\n",
      "1\n",
      "2\n",
      "3\n",
      "torch.Size([8, 8])\n",
      "torch.Size([8])\n",
      "4\n"
     ]
    },
    {
     "name": "stderr",
     "output_type": "stream",
     "text": [
      " 53%|█████▎    | 20/38 [12:39<11:06, 37.03s/it]"
     ]
    },
    {
     "name": "stdout",
     "output_type": "stream",
     "text": [
      "i= 160 \n",
      "\n",
      "1\n",
      "2\n",
      "3\n",
      "torch.Size([8, 8])\n",
      "torch.Size([8])\n",
      "4\n"
     ]
    },
    {
     "name": "stderr",
     "output_type": "stream",
     "text": [
      " 55%|█████▌    | 21/38 [13:16<10:27, 36.90s/it]"
     ]
    },
    {
     "name": "stdout",
     "output_type": "stream",
     "text": [
      "i= 168 \n",
      "\n",
      "1\n",
      "2\n",
      "3\n",
      "torch.Size([8, 8])\n",
      "torch.Size([8])\n",
      "4\n"
     ]
    },
    {
     "name": "stderr",
     "output_type": "stream",
     "text": [
      " 58%|█████▊    | 22/38 [13:53<09:50, 36.91s/it]"
     ]
    },
    {
     "name": "stdout",
     "output_type": "stream",
     "text": [
      "i= 176 \n",
      "\n",
      "1\n",
      "2\n",
      "3\n",
      "torch.Size([8, 8])\n",
      "torch.Size([8])\n",
      "4\n"
     ]
    },
    {
     "name": "stderr",
     "output_type": "stream",
     "text": [
      " 61%|██████    | 23/38 [14:29<09:09, 36.66s/it]"
     ]
    },
    {
     "name": "stdout",
     "output_type": "stream",
     "text": [
      "i= 184 \n",
      "\n",
      "1\n",
      "2\n",
      "3\n",
      "torch.Size([8, 8])\n",
      "torch.Size([8])\n",
      "4\n"
     ]
    },
    {
     "name": "stderr",
     "output_type": "stream",
     "text": [
      " 63%|██████▎   | 24/38 [15:05<08:30, 36.43s/it]"
     ]
    },
    {
     "name": "stdout",
     "output_type": "stream",
     "text": [
      "i= 192 \n",
      "\n",
      "1\n",
      "2\n",
      "3\n",
      "torch.Size([8, 8])\n",
      "torch.Size([8])\n",
      "4\n"
     ]
    },
    {
     "name": "stderr",
     "output_type": "stream",
     "text": [
      " 66%|██████▌   | 25/38 [15:39<07:45, 35.81s/it]"
     ]
    },
    {
     "name": "stdout",
     "output_type": "stream",
     "text": [
      "i= 200 \n",
      "\n",
      "1\n",
      "2\n",
      "3\n",
      "torch.Size([8, 8])\n",
      "torch.Size([8])\n",
      "4\n"
     ]
    },
    {
     "name": "stderr",
     "output_type": "stream",
     "text": [
      " 68%|██████▊   | 26/38 [16:17<07:17, 36.45s/it]"
     ]
    },
    {
     "name": "stdout",
     "output_type": "stream",
     "text": [
      "i= 208 \n",
      "\n",
      "1\n",
      "2\n",
      "3\n",
      "torch.Size([8, 8])\n",
      "torch.Size([8])\n",
      "4\n"
     ]
    },
    {
     "name": "stderr",
     "output_type": "stream",
     "text": [
      " 71%|███████   | 27/38 [16:55<06:44, 36.73s/it]"
     ]
    },
    {
     "name": "stdout",
     "output_type": "stream",
     "text": [
      "i= 216 \n",
      "\n",
      "1\n",
      "2\n",
      "3\n",
      "torch.Size([8, 8])\n",
      "torch.Size([8])\n",
      "4\n"
     ]
    },
    {
     "name": "stderr",
     "output_type": "stream",
     "text": [
      " 74%|███████▎  | 28/38 [17:32<06:10, 37.03s/it]"
     ]
    },
    {
     "name": "stdout",
     "output_type": "stream",
     "text": [
      "i= 224 \n",
      "\n",
      "1\n",
      "2\n",
      "3\n",
      "torch.Size([8, 8])\n",
      "torch.Size([8])\n",
      "4\n"
     ]
    },
    {
     "name": "stderr",
     "output_type": "stream",
     "text": [
      " 76%|███████▋  | 29/38 [18:08<05:29, 36.57s/it]"
     ]
    },
    {
     "name": "stdout",
     "output_type": "stream",
     "text": [
      "i= 232 \n",
      "\n",
      "1\n",
      "2\n",
      "3\n",
      "torch.Size([8, 8])\n",
      "torch.Size([8])\n",
      "4\n"
     ]
    },
    {
     "name": "stderr",
     "output_type": "stream",
     "text": [
      " 79%|███████▉  | 30/38 [18:45<04:52, 36.62s/it]"
     ]
    },
    {
     "name": "stdout",
     "output_type": "stream",
     "text": [
      "i= 240 \n",
      "\n",
      "1\n",
      "2\n",
      "3\n",
      "torch.Size([8, 8])\n",
      "torch.Size([8])\n",
      "4\n"
     ]
    },
    {
     "name": "stderr",
     "output_type": "stream",
     "text": [
      " 82%|████████▏ | 31/38 [19:17<04:08, 35.45s/it]"
     ]
    },
    {
     "name": "stdout",
     "output_type": "stream",
     "text": [
      "i= 248 \n",
      "\n",
      "1\n",
      "2\n",
      "3\n",
      "torch.Size([8, 8])\n",
      "torch.Size([8])\n",
      "4\n"
     ]
    },
    {
     "name": "stderr",
     "output_type": "stream",
     "text": [
      " 84%|████████▍ | 32/38 [19:55<03:36, 36.03s/it]"
     ]
    },
    {
     "name": "stdout",
     "output_type": "stream",
     "text": [
      "i= 256 \n",
      "\n",
      "1\n",
      "2\n",
      "3\n",
      "torch.Size([8, 8])\n",
      "torch.Size([8])\n",
      "4\n"
     ]
    },
    {
     "name": "stderr",
     "output_type": "stream",
     "text": [
      " 87%|████████▋ | 33/38 [20:31<03:01, 36.21s/it]"
     ]
    },
    {
     "name": "stdout",
     "output_type": "stream",
     "text": [
      "i= 264 \n",
      "\n",
      "1\n",
      "2\n",
      "3\n",
      "torch.Size([8, 8])\n",
      "torch.Size([8])\n",
      "4\n"
     ]
    },
    {
     "name": "stderr",
     "output_type": "stream",
     "text": [
      " 89%|████████▉ | 34/38 [21:10<02:27, 36.93s/it]"
     ]
    },
    {
     "name": "stdout",
     "output_type": "stream",
     "text": [
      "i= 272 \n",
      "\n",
      "1\n",
      "2\n",
      "3\n",
      "torch.Size([8, 8])\n",
      "torch.Size([8])\n",
      "4\n"
     ]
    },
    {
     "name": "stderr",
     "output_type": "stream",
     "text": [
      " 92%|█████████▏| 35/38 [21:47<01:50, 36.89s/it]"
     ]
    },
    {
     "name": "stdout",
     "output_type": "stream",
     "text": [
      "i= 280 \n",
      "\n",
      "1\n",
      "2\n",
      "3\n",
      "torch.Size([8, 8])\n",
      "torch.Size([8])\n",
      "4\n"
     ]
    },
    {
     "name": "stderr",
     "output_type": "stream",
     "text": [
      " 95%|█████████▍| 36/38 [22:23<01:13, 36.82s/it]"
     ]
    },
    {
     "name": "stdout",
     "output_type": "stream",
     "text": [
      "i= 288 \n",
      "\n",
      "1\n",
      "2\n",
      "3\n",
      "torch.Size([8, 8])\n",
      "torch.Size([8])\n",
      "4\n"
     ]
    },
    {
     "name": "stderr",
     "output_type": "stream",
     "text": [
      " 97%|█████████▋| 37/38 [23:00<00:36, 36.66s/it]"
     ]
    },
    {
     "name": "stdout",
     "output_type": "stream",
     "text": [
      "i= 296 \n",
      "\n",
      "1\n",
      "2\n",
      "3\n",
      "torch.Size([4, 8])\n",
      "torch.Size([4])\n",
      "4\n"
     ]
    },
    {
     "name": "stderr",
     "output_type": "stream",
     "text": [
      "100%|██████████| 38/38 [23:13<00:00, 36.68s/it]\n",
      "  0%|          | 0/38 [00:00<?, ?it/s]"
     ]
    },
    {
     "name": "stdout",
     "output_type": "stream",
     "text": [
      "epoch: \t 1 \t training loss: \t 0.741861844105874\n",
      "epoch 2 \n",
      "\n",
      "i= 0 \n",
      "\n",
      "1\n",
      "2\n",
      "3\n",
      "torch.Size([8, 8])\n",
      "torch.Size([8])\n",
      "4\n"
     ]
    },
    {
     "name": "stderr",
     "output_type": "stream",
     "text": [
      "  3%|▎         | 1/38 [00:37<22:59, 37.27s/it]"
     ]
    },
    {
     "name": "stdout",
     "output_type": "stream",
     "text": [
      "i= 8 \n",
      "\n",
      "1\n",
      "2\n",
      "3\n",
      "torch.Size([8, 8])\n",
      "torch.Size([8])\n",
      "4\n"
     ]
    },
    {
     "name": "stderr",
     "output_type": "stream",
     "text": [
      "  5%|▌         | 2/38 [01:15<22:32, 37.56s/it]"
     ]
    },
    {
     "name": "stdout",
     "output_type": "stream",
     "text": [
      "i= 16 \n",
      "\n",
      "1\n",
      "2\n",
      "3\n",
      "torch.Size([8, 8])\n",
      "torch.Size([8])\n",
      "4\n"
     ]
    },
    {
     "name": "stderr",
     "output_type": "stream",
     "text": [
      "  8%|▊         | 3/38 [01:52<21:52, 37.49s/it]"
     ]
    },
    {
     "name": "stdout",
     "output_type": "stream",
     "text": [
      "i= 24 \n",
      "\n",
      "1\n",
      "2\n",
      "3\n",
      "torch.Size([8, 8])\n",
      "torch.Size([8])\n",
      "4\n"
     ]
    },
    {
     "name": "stderr",
     "output_type": "stream",
     "text": [
      " 11%|█         | 4/38 [02:30<21:15, 37.53s/it]"
     ]
    },
    {
     "name": "stdout",
     "output_type": "stream",
     "text": [
      "i= 32 \n",
      "\n",
      "1\n",
      "2\n",
      "3\n",
      "torch.Size([8, 8])\n",
      "torch.Size([8])\n",
      "4\n"
     ]
    },
    {
     "name": "stderr",
     "output_type": "stream",
     "text": [
      " 13%|█▎        | 5/38 [03:05<20:12, 36.73s/it]"
     ]
    },
    {
     "name": "stdout",
     "output_type": "stream",
     "text": [
      "i= 40 \n",
      "\n",
      "1\n",
      "2\n",
      "3\n",
      "torch.Size([8, 8])\n",
      "torch.Size([8])\n",
      "4\n"
     ]
    },
    {
     "name": "stderr",
     "output_type": "stream",
     "text": [
      " 16%|█▌        | 6/38 [03:40<19:21, 36.28s/it]"
     ]
    },
    {
     "name": "stdout",
     "output_type": "stream",
     "text": [
      "i= 48 \n",
      "\n",
      "1\n",
      "2\n",
      "3\n",
      "torch.Size([8, 8])\n",
      "torch.Size([8])\n",
      "4\n"
     ]
    },
    {
     "name": "stderr",
     "output_type": "stream",
     "text": [
      " 18%|█▊        | 7/38 [04:18<18:57, 36.70s/it]"
     ]
    },
    {
     "name": "stdout",
     "output_type": "stream",
     "text": [
      "i= 56 \n",
      "\n",
      "1\n",
      "2\n",
      "3\n",
      "torch.Size([8, 8])\n",
      "torch.Size([8])\n",
      "4\n"
     ]
    },
    {
     "name": "stderr",
     "output_type": "stream",
     "text": [
      " 21%|██        | 8/38 [04:55<18:23, 36.77s/it]"
     ]
    },
    {
     "name": "stdout",
     "output_type": "stream",
     "text": [
      "i= 64 \n",
      "\n",
      "1\n",
      "2\n",
      "3\n",
      "torch.Size([8, 8])\n",
      "torch.Size([8])\n",
      "4\n"
     ]
    },
    {
     "name": "stderr",
     "output_type": "stream",
     "text": [
      " 24%|██▎       | 9/38 [05:30<17:33, 36.33s/it]"
     ]
    },
    {
     "name": "stdout",
     "output_type": "stream",
     "text": [
      "i= 72 \n",
      "\n",
      "1\n",
      "2\n",
      "3\n",
      "torch.Size([8, 8])\n",
      "torch.Size([8])\n",
      "4\n"
     ]
    },
    {
     "name": "stderr",
     "output_type": "stream",
     "text": [
      " 26%|██▋       | 10/38 [06:06<16:55, 36.28s/it]"
     ]
    },
    {
     "name": "stdout",
     "output_type": "stream",
     "text": [
      "i= 80 \n",
      "\n",
      "1\n",
      "2\n",
      "3\n",
      "torch.Size([8, 8])\n",
      "torch.Size([8])\n",
      "4\n"
     ]
    },
    {
     "name": "stderr",
     "output_type": "stream",
     "text": [
      " 29%|██▉       | 11/38 [06:44<16:33, 36.78s/it]"
     ]
    },
    {
     "name": "stdout",
     "output_type": "stream",
     "text": [
      "i= 88 \n",
      "\n",
      "1\n",
      "2\n",
      "3\n",
      "torch.Size([8, 8])\n",
      "torch.Size([8])\n",
      "4\n"
     ]
    },
    {
     "name": "stderr",
     "output_type": "stream",
     "text": [
      " 32%|███▏      | 12/38 [07:22<16:01, 37.00s/it]"
     ]
    },
    {
     "name": "stdout",
     "output_type": "stream",
     "text": [
      "i= 96 \n",
      "\n",
      "1\n",
      "2\n",
      "3\n",
      "torch.Size([8, 8])\n",
      "torch.Size([8])\n",
      "4\n"
     ]
    },
    {
     "name": "stderr",
     "output_type": "stream",
     "text": [
      " 34%|███▍      | 13/38 [08:00<15:36, 37.47s/it]"
     ]
    },
    {
     "name": "stdout",
     "output_type": "stream",
     "text": [
      "i= 104 \n",
      "\n",
      "1\n",
      "2\n",
      "3\n",
      "torch.Size([8, 8])\n",
      "torch.Size([8])\n",
      "4\n"
     ]
    },
    {
     "name": "stderr",
     "output_type": "stream",
     "text": [
      " 37%|███▋      | 14/38 [08:41<15:24, 38.51s/it]"
     ]
    },
    {
     "name": "stdout",
     "output_type": "stream",
     "text": [
      "i= 112 \n",
      "\n",
      "1\n",
      "2\n",
      "3\n",
      "torch.Size([8, 8])\n",
      "torch.Size([8])\n",
      "4\n"
     ]
    },
    {
     "name": "stderr",
     "output_type": "stream",
     "text": [
      " 39%|███▉      | 15/38 [09:20<14:49, 38.69s/it]"
     ]
    },
    {
     "name": "stdout",
     "output_type": "stream",
     "text": [
      "i= 120 \n",
      "\n",
      "1\n",
      "2\n",
      "3\n",
      "torch.Size([8, 8])\n",
      "torch.Size([8])\n",
      "4\n"
     ]
    },
    {
     "name": "stderr",
     "output_type": "stream",
     "text": [
      " 42%|████▏     | 16/38 [10:03<14:37, 39.90s/it]"
     ]
    },
    {
     "name": "stdout",
     "output_type": "stream",
     "text": [
      "i= 128 \n",
      "\n",
      "1\n",
      "2\n",
      "3\n",
      "torch.Size([8, 8])\n",
      "torch.Size([8])\n",
      "4\n"
     ]
    },
    {
     "name": "stderr",
     "output_type": "stream",
     "text": [
      " 45%|████▍     | 17/38 [10:43<13:57, 39.86s/it]"
     ]
    },
    {
     "name": "stdout",
     "output_type": "stream",
     "text": [
      "i= 136 \n",
      "\n",
      "1\n",
      "2\n",
      "3\n",
      "torch.Size([8, 8])\n",
      "torch.Size([8])\n",
      "4\n"
     ]
    },
    {
     "name": "stderr",
     "output_type": "stream",
     "text": [
      " 47%|████▋     | 18/38 [11:19<12:56, 38.82s/it]"
     ]
    },
    {
     "name": "stdout",
     "output_type": "stream",
     "text": [
      "i= 144 \n",
      "\n",
      "1\n",
      "2\n",
      "3\n",
      "torch.Size([8, 8])\n",
      "torch.Size([8])\n",
      "4\n"
     ]
    },
    {
     "name": "stderr",
     "output_type": "stream",
     "text": [
      " 50%|█████     | 19/38 [11:58<12:16, 38.76s/it]"
     ]
    },
    {
     "name": "stdout",
     "output_type": "stream",
     "text": [
      "i= 152 \n",
      "\n",
      "1\n",
      "2\n",
      "3\n",
      "torch.Size([8, 8])\n",
      "torch.Size([8])\n",
      "4\n"
     ]
    },
    {
     "name": "stderr",
     "output_type": "stream",
     "text": [
      " 53%|█████▎    | 20/38 [12:37<11:41, 38.97s/it]"
     ]
    },
    {
     "name": "stdout",
     "output_type": "stream",
     "text": [
      "i= 160 \n",
      "\n",
      "1\n",
      "2\n",
      "3\n",
      "torch.Size([8, 8])\n",
      "torch.Size([8])\n",
      "4\n"
     ]
    },
    {
     "name": "stderr",
     "output_type": "stream",
     "text": [
      " 55%|█████▌    | 21/38 [13:24<11:43, 41.40s/it]"
     ]
    },
    {
     "name": "stdout",
     "output_type": "stream",
     "text": [
      "i= 168 \n",
      "\n",
      "1\n",
      "2\n",
      "3\n",
      "torch.Size([8, 8])\n",
      "torch.Size([8])\n",
      "4\n"
     ]
    },
    {
     "name": "stderr",
     "output_type": "stream",
     "text": [
      " 58%|█████▊    | 22/38 [14:09<11:19, 42.47s/it]"
     ]
    },
    {
     "name": "stdout",
     "output_type": "stream",
     "text": [
      "i= 176 \n",
      "\n",
      "1\n",
      "2\n",
      "3\n",
      "torch.Size([8, 8])\n",
      "torch.Size([8])\n",
      "4\n"
     ]
    },
    {
     "name": "stderr",
     "output_type": "stream",
     "text": [
      " 61%|██████    | 23/38 [14:52<10:38, 42.58s/it]"
     ]
    },
    {
     "name": "stdout",
     "output_type": "stream",
     "text": [
      "i= 184 \n",
      "\n",
      "1\n",
      "2\n",
      "3\n",
      "torch.Size([8, 8])\n",
      "torch.Size([8])\n",
      "4\n"
     ]
    },
    {
     "name": "stderr",
     "output_type": "stream",
     "text": [
      " 63%|██████▎   | 24/38 [15:29<09:30, 40.77s/it]"
     ]
    },
    {
     "name": "stdout",
     "output_type": "stream",
     "text": [
      "i= 192 \n",
      "\n",
      "1\n",
      "2\n",
      "3\n",
      "torch.Size([8, 8])\n",
      "torch.Size([8])\n",
      "4\n"
     ]
    },
    {
     "name": "stderr",
     "output_type": "stream",
     "text": [
      " 66%|██████▌   | 25/38 [16:06<08:35, 39.66s/it]"
     ]
    },
    {
     "name": "stdout",
     "output_type": "stream",
     "text": [
      "i= 200 \n",
      "\n",
      "1\n",
      "2\n",
      "3\n",
      "torch.Size([8, 8])\n",
      "torch.Size([8])\n",
      "4\n"
     ]
    },
    {
     "name": "stderr",
     "output_type": "stream",
     "text": [
      " 68%|██████▊   | 26/38 [16:43<07:47, 38.99s/it]"
     ]
    },
    {
     "name": "stdout",
     "output_type": "stream",
     "text": [
      "i= 208 \n",
      "\n",
      "1\n",
      "2\n",
      "3\n",
      "torch.Size([8, 8])\n",
      "torch.Size([8])\n",
      "4\n"
     ]
    },
    {
     "name": "stderr",
     "output_type": "stream",
     "text": [
      " 71%|███████   | 27/38 [17:19<07:00, 38.18s/it]"
     ]
    },
    {
     "name": "stdout",
     "output_type": "stream",
     "text": [
      "i= 216 \n",
      "\n",
      "1\n",
      "2\n",
      "3\n",
      "torch.Size([8, 8])\n",
      "torch.Size([8])\n",
      "4\n"
     ]
    },
    {
     "name": "stderr",
     "output_type": "stream",
     "text": [
      " 74%|███████▎  | 28/38 [18:01<06:32, 39.20s/it]"
     ]
    },
    {
     "name": "stdout",
     "output_type": "stream",
     "text": [
      "i= 224 \n",
      "\n",
      "1\n",
      "2\n",
      "3\n",
      "torch.Size([8, 8])\n",
      "torch.Size([8])\n",
      "4\n"
     ]
    },
    {
     "name": "stderr",
     "output_type": "stream",
     "text": [
      " 76%|███████▋  | 29/38 [18:45<06:05, 40.58s/it]"
     ]
    },
    {
     "name": "stdout",
     "output_type": "stream",
     "text": [
      "i= 232 \n",
      "\n",
      "1\n",
      "2\n",
      "3\n",
      "torch.Size([8, 8])\n",
      "torch.Size([8])\n",
      "4\n"
     ]
    },
    {
     "name": "stderr",
     "output_type": "stream",
     "text": [
      " 79%|███████▉  | 30/38 [19:24<05:21, 40.13s/it]"
     ]
    },
    {
     "name": "stdout",
     "output_type": "stream",
     "text": [
      "i= 240 \n",
      "\n",
      "1\n",
      "2\n",
      "3\n",
      "torch.Size([8, 8])\n",
      "torch.Size([8])\n",
      "4\n"
     ]
    },
    {
     "name": "stderr",
     "output_type": "stream",
     "text": [
      " 82%|████████▏ | 31/38 [20:03<04:38, 39.81s/it]"
     ]
    },
    {
     "name": "stdout",
     "output_type": "stream",
     "text": [
      "i= 248 \n",
      "\n",
      "1\n",
      "2\n",
      "3\n",
      "torch.Size([8, 8])\n",
      "torch.Size([8])\n",
      "4\n"
     ]
    },
    {
     "name": "stderr",
     "output_type": "stream",
     "text": [
      " 84%|████████▍ | 32/38 [20:41<03:55, 39.17s/it]"
     ]
    },
    {
     "name": "stdout",
     "output_type": "stream",
     "text": [
      "i= 256 \n",
      "\n",
      "1\n",
      "2\n",
      "3\n",
      "torch.Size([8, 8])\n",
      "torch.Size([8])\n",
      "4\n"
     ]
    },
    {
     "name": "stderr",
     "output_type": "stream",
     "text": [
      " 87%|████████▋ | 33/38 [21:19<03:14, 38.97s/it]"
     ]
    },
    {
     "name": "stdout",
     "output_type": "stream",
     "text": [
      "i= 264 \n",
      "\n",
      "1\n",
      "2\n",
      "3\n",
      "torch.Size([8, 8])\n",
      "torch.Size([8])\n",
      "4\n"
     ]
    },
    {
     "name": "stderr",
     "output_type": "stream",
     "text": [
      " 89%|████████▉ | 34/38 [22:01<02:38, 39.74s/it]"
     ]
    },
    {
     "name": "stdout",
     "output_type": "stream",
     "text": [
      "i= 272 \n",
      "\n",
      "1\n",
      "2\n",
      "3\n",
      "torch.Size([8, 8])\n",
      "torch.Size([8])\n",
      "4\n"
     ]
    },
    {
     "name": "stderr",
     "output_type": "stream",
     "text": [
      " 92%|█████████▏| 35/38 [22:39<01:58, 39.33s/it]"
     ]
    },
    {
     "name": "stdout",
     "output_type": "stream",
     "text": [
      "i= 280 \n",
      "\n",
      "1\n",
      "2\n",
      "3\n",
      "torch.Size([8, 8])\n",
      "torch.Size([8])\n",
      "4\n"
     ]
    },
    {
     "name": "stderr",
     "output_type": "stream",
     "text": [
      " 95%|█████████▍| 36/38 [23:16<01:17, 38.73s/it]"
     ]
    },
    {
     "name": "stdout",
     "output_type": "stream",
     "text": [
      "i= 288 \n",
      "\n",
      "1\n",
      "2\n",
      "3\n",
      "torch.Size([8, 8])\n",
      "torch.Size([8])\n",
      "4\n"
     ]
    },
    {
     "name": "stderr",
     "output_type": "stream",
     "text": [
      " 97%|█████████▋| 37/38 [23:53<00:38, 38.04s/it]"
     ]
    },
    {
     "name": "stdout",
     "output_type": "stream",
     "text": [
      "i= 296 \n",
      "\n",
      "1\n",
      "2\n",
      "3\n",
      "torch.Size([4, 8])\n",
      "torch.Size([4])\n",
      "4\n"
     ]
    },
    {
     "name": "stderr",
     "output_type": "stream",
     "text": [
      "100%|██████████| 38/38 [24:08<00:00, 38.12s/it]\n",
      "  0%|          | 0/38 [00:00<?, ?it/s]"
     ]
    },
    {
     "name": "stdout",
     "output_type": "stream",
     "text": [
      "epoch: \t 2 \t training loss: \t 0.5076643992327047\n",
      "epoch 3 \n",
      "\n",
      "i= 0 \n",
      "\n",
      "1\n",
      "2\n",
      "3\n",
      "torch.Size([8, 8])\n",
      "torch.Size([8])\n",
      "4\n"
     ]
    },
    {
     "name": "stderr",
     "output_type": "stream",
     "text": [
      "  3%|▎         | 1/38 [00:37<22:55, 37.16s/it]"
     ]
    },
    {
     "name": "stdout",
     "output_type": "stream",
     "text": [
      "i= 8 \n",
      "\n",
      "1\n",
      "2\n",
      "3\n",
      "torch.Size([8, 8])\n",
      "torch.Size([8])\n",
      "4\n"
     ]
    },
    {
     "name": "stderr",
     "output_type": "stream",
     "text": [
      "  5%|▌         | 2/38 [01:12<21:59, 36.64s/it]"
     ]
    },
    {
     "name": "stdout",
     "output_type": "stream",
     "text": [
      "i= 16 \n",
      "\n",
      "1\n",
      "2\n",
      "3\n",
      "torch.Size([8, 8])\n",
      "torch.Size([8])\n",
      "4\n"
     ]
    },
    {
     "name": "stderr",
     "output_type": "stream",
     "text": [
      "  8%|▊         | 3/38 [01:52<21:53, 37.53s/it]"
     ]
    },
    {
     "name": "stdout",
     "output_type": "stream",
     "text": [
      "i= 24 \n",
      "\n",
      "1\n",
      "2\n",
      "3\n",
      "torch.Size([8, 8])\n",
      "torch.Size([8])\n",
      "4\n"
     ]
    },
    {
     "name": "stderr",
     "output_type": "stream",
     "text": [
      " 11%|█         | 4/38 [02:32<21:40, 38.25s/it]"
     ]
    },
    {
     "name": "stdout",
     "output_type": "stream",
     "text": [
      "i= 32 \n",
      "\n",
      "1\n",
      "2\n",
      "3\n",
      "torch.Size([8, 8])\n",
      "torch.Size([8])\n",
      "4\n"
     ]
    },
    {
     "name": "stderr",
     "output_type": "stream",
     "text": [
      " 13%|█▎        | 5/38 [03:11<21:14, 38.64s/it]"
     ]
    },
    {
     "name": "stdout",
     "output_type": "stream",
     "text": [
      "i= 40 \n",
      "\n",
      "1\n",
      "2\n",
      "3\n",
      "torch.Size([8, 8])\n",
      "torch.Size([8])\n",
      "4\n"
     ]
    },
    {
     "name": "stderr",
     "output_type": "stream",
     "text": [
      " 16%|█▌        | 6/38 [03:49<20:27, 38.36s/it]"
     ]
    },
    {
     "name": "stdout",
     "output_type": "stream",
     "text": [
      "i= 48 \n",
      "\n",
      "1\n",
      "2\n",
      "3\n",
      "torch.Size([8, 8])\n",
      "torch.Size([8])\n",
      "4\n"
     ]
    },
    {
     "name": "stderr",
     "output_type": "stream",
     "text": [
      " 18%|█▊        | 7/38 [04:27<19:51, 38.43s/it]"
     ]
    },
    {
     "name": "stdout",
     "output_type": "stream",
     "text": [
      "i= 56 \n",
      "\n",
      "1\n",
      "2\n",
      "3\n",
      "torch.Size([8, 8])\n",
      "torch.Size([8])\n",
      "4\n"
     ]
    },
    {
     "name": "stderr",
     "output_type": "stream",
     "text": [
      " 21%|██        | 8/38 [05:06<19:14, 38.47s/it]"
     ]
    },
    {
     "name": "stdout",
     "output_type": "stream",
     "text": [
      "i= 64 \n",
      "\n",
      "1\n",
      "2\n",
      "3\n",
      "torch.Size([8, 8])\n",
      "torch.Size([8])\n",
      "4\n"
     ]
    },
    {
     "name": "stderr",
     "output_type": "stream",
     "text": [
      " 24%|██▎       | 9/38 [05:41<18:00, 37.27s/it]"
     ]
    },
    {
     "name": "stdout",
     "output_type": "stream",
     "text": [
      "i= 72 \n",
      "\n",
      "1\n",
      "2\n",
      "3\n",
      "torch.Size([8, 8])\n",
      "torch.Size([8])\n",
      "4\n"
     ]
    },
    {
     "name": "stderr",
     "output_type": "stream",
     "text": [
      " 26%|██▋       | 10/38 [06:24<18:12, 39.01s/it]"
     ]
    },
    {
     "name": "stdout",
     "output_type": "stream",
     "text": [
      "i= 80 \n",
      "\n",
      "1\n",
      "2\n",
      "3\n",
      "torch.Size([8, 8])\n",
      "torch.Size([8])\n",
      "4\n"
     ]
    },
    {
     "name": "stderr",
     "output_type": "stream",
     "text": [
      " 29%|██▉       | 11/38 [07:01<17:24, 38.68s/it]"
     ]
    },
    {
     "name": "stdout",
     "output_type": "stream",
     "text": [
      "i= 88 \n",
      "\n",
      "1\n",
      "2\n",
      "3\n",
      "torch.Size([8, 8])\n",
      "torch.Size([8])\n",
      "4\n"
     ]
    },
    {
     "name": "stderr",
     "output_type": "stream",
     "text": [
      " 32%|███▏      | 12/38 [07:38<16:25, 37.89s/it]"
     ]
    },
    {
     "name": "stdout",
     "output_type": "stream",
     "text": [
      "i= 96 \n",
      "\n",
      "1\n",
      "2\n",
      "3\n",
      "torch.Size([8, 8])\n",
      "torch.Size([8])\n",
      "4\n"
     ]
    },
    {
     "name": "stderr",
     "output_type": "stream",
     "text": [
      " 34%|███▍      | 13/38 [08:14<15:37, 37.49s/it]"
     ]
    },
    {
     "name": "stdout",
     "output_type": "stream",
     "text": [
      "i= 104 \n",
      "\n",
      "1\n",
      "2\n",
      "3\n",
      "torch.Size([8, 8])\n",
      "torch.Size([8])\n",
      "4\n"
     ]
    },
    {
     "name": "stderr",
     "output_type": "stream",
     "text": [
      " 37%|███▋      | 14/38 [08:51<14:53, 37.25s/it]"
     ]
    },
    {
     "name": "stdout",
     "output_type": "stream",
     "text": [
      "i= 112 \n",
      "\n",
      "1\n",
      "2\n",
      "3\n",
      "torch.Size([8, 8])\n",
      "torch.Size([8])\n",
      "4\n"
     ]
    },
    {
     "name": "stderr",
     "output_type": "stream",
     "text": [
      " 39%|███▉      | 15/38 [09:25<13:53, 36.23s/it]"
     ]
    },
    {
     "name": "stdout",
     "output_type": "stream",
     "text": [
      "i= 120 \n",
      "\n",
      "1\n",
      "2\n",
      "3\n",
      "torch.Size([8, 8])\n",
      "torch.Size([8])\n",
      "4\n"
     ]
    },
    {
     "name": "stderr",
     "output_type": "stream",
     "text": [
      " 42%|████▏     | 16/38 [10:04<13:35, 37.06s/it]"
     ]
    },
    {
     "name": "stdout",
     "output_type": "stream",
     "text": [
      "i= 128 \n",
      "\n",
      "1\n",
      "2\n",
      "3\n",
      "torch.Size([8, 8])\n",
      "torch.Size([8])\n",
      "4\n"
     ]
    },
    {
     "name": "stderr",
     "output_type": "stream",
     "text": [
      " 45%|████▍     | 17/38 [10:40<12:53, 36.82s/it]"
     ]
    },
    {
     "name": "stdout",
     "output_type": "stream",
     "text": [
      "i= 136 \n",
      "\n",
      "1\n",
      "2\n",
      "3\n",
      "torch.Size([8, 8])\n",
      "torch.Size([8])\n",
      "4\n"
     ]
    },
    {
     "name": "stderr",
     "output_type": "stream",
     "text": [
      " 47%|████▋     | 18/38 [11:15<12:04, 36.23s/it]"
     ]
    },
    {
     "name": "stdout",
     "output_type": "stream",
     "text": [
      "i= 144 \n",
      "\n",
      "1\n",
      "2\n",
      "3\n",
      "torch.Size([8, 8])\n",
      "torch.Size([8])\n",
      "4\n"
     ]
    },
    {
     "name": "stderr",
     "output_type": "stream",
     "text": [
      " 50%|█████     | 19/38 [11:50<11:21, 35.87s/it]"
     ]
    },
    {
     "name": "stdout",
     "output_type": "stream",
     "text": [
      "i= 152 \n",
      "\n",
      "1\n",
      "2\n",
      "3\n",
      "torch.Size([8, 8])\n",
      "torch.Size([8])\n",
      "4\n"
     ]
    },
    {
     "name": "stderr",
     "output_type": "stream",
     "text": [
      " 53%|█████▎    | 20/38 [12:28<10:58, 36.61s/it]"
     ]
    },
    {
     "name": "stdout",
     "output_type": "stream",
     "text": [
      "i= 160 \n",
      "\n",
      "1\n",
      "2\n",
      "3\n",
      "torch.Size([8, 8])\n",
      "torch.Size([8])\n",
      "4\n"
     ]
    },
    {
     "name": "stderr",
     "output_type": "stream",
     "text": [
      " 55%|█████▌    | 21/38 [13:12<11:00, 38.83s/it]"
     ]
    },
    {
     "name": "stdout",
     "output_type": "stream",
     "text": [
      "i= 168 \n",
      "\n",
      "1\n",
      "2\n",
      "3\n",
      "torch.Size([8, 8])\n",
      "torch.Size([8])\n",
      "4\n"
     ]
    },
    {
     "name": "stderr",
     "output_type": "stream",
     "text": [
      " 58%|█████▊    | 22/38 [13:52<10:25, 39.12s/it]"
     ]
    },
    {
     "name": "stdout",
     "output_type": "stream",
     "text": [
      "i= 176 \n",
      "\n",
      "1\n",
      "2\n",
      "3\n",
      "torch.Size([8, 8])\n",
      "torch.Size([8])\n",
      "4\n"
     ]
    },
    {
     "name": "stderr",
     "output_type": "stream",
     "text": [
      " 61%|██████    | 23/38 [14:33<09:56, 39.76s/it]"
     ]
    },
    {
     "name": "stdout",
     "output_type": "stream",
     "text": [
      "i= 184 \n",
      "\n",
      "1\n",
      "2\n",
      "3\n",
      "torch.Size([8, 8])\n",
      "torch.Size([8])\n",
      "4\n"
     ]
    },
    {
     "name": "stderr",
     "output_type": "stream",
     "text": [
      " 63%|██████▎   | 24/38 [15:11<09:09, 39.23s/it]"
     ]
    },
    {
     "name": "stdout",
     "output_type": "stream",
     "text": [
      "i= 192 \n",
      "\n",
      "1\n",
      "2\n",
      "3\n",
      "torch.Size([8, 8])\n",
      "torch.Size([8])\n",
      "4\n"
     ]
    },
    {
     "name": "stderr",
     "output_type": "stream",
     "text": [
      " 66%|██████▌   | 25/38 [15:50<08:27, 39.05s/it]"
     ]
    },
    {
     "name": "stdout",
     "output_type": "stream",
     "text": [
      "i= 200 \n",
      "\n",
      "1\n",
      "2\n",
      "3\n",
      "torch.Size([8, 8])\n",
      "torch.Size([8])\n",
      "4\n"
     ]
    },
    {
     "name": "stderr",
     "output_type": "stream",
     "text": [
      " 68%|██████▊   | 26/38 [16:28<07:45, 38.82s/it]"
     ]
    },
    {
     "name": "stdout",
     "output_type": "stream",
     "text": [
      "i= 208 \n",
      "\n",
      "1\n",
      "2\n",
      "3\n",
      "torch.Size([8, 8])\n",
      "torch.Size([8])\n",
      "4\n"
     ]
    },
    {
     "name": "stderr",
     "output_type": "stream",
     "text": [
      " 71%|███████   | 27/38 [17:04<06:59, 38.10s/it]"
     ]
    },
    {
     "name": "stdout",
     "output_type": "stream",
     "text": [
      "i= 216 \n",
      "\n",
      "1\n",
      "2\n",
      "3\n",
      "torch.Size([8, 8])\n",
      "torch.Size([8])\n",
      "4\n"
     ]
    },
    {
     "name": "stderr",
     "output_type": "stream",
     "text": [
      " 74%|███████▎  | 28/38 [17:41<06:16, 37.64s/it]"
     ]
    },
    {
     "name": "stdout",
     "output_type": "stream",
     "text": [
      "i= 224 \n",
      "\n",
      "1\n",
      "2\n",
      "3\n",
      "torch.Size([8, 8])\n",
      "torch.Size([8])\n",
      "4\n"
     ]
    },
    {
     "name": "stderr",
     "output_type": "stream",
     "text": [
      " 76%|███████▋  | 29/38 [18:19<05:40, 37.86s/it]"
     ]
    },
    {
     "name": "stdout",
     "output_type": "stream",
     "text": [
      "i= 232 \n",
      "\n",
      "1\n",
      "2\n",
      "3\n",
      "torch.Size([8, 8])\n",
      "torch.Size([8])\n",
      "4\n"
     ]
    },
    {
     "name": "stderr",
     "output_type": "stream",
     "text": [
      " 79%|███████▉  | 30/38 [18:56<05:00, 37.54s/it]"
     ]
    },
    {
     "name": "stdout",
     "output_type": "stream",
     "text": [
      "i= 240 \n",
      "\n",
      "1\n",
      "2\n",
      "3\n",
      "torch.Size([8, 8])\n",
      "torch.Size([8])\n",
      "4\n"
     ]
    },
    {
     "name": "stderr",
     "output_type": "stream",
     "text": [
      " 82%|████████▏ | 31/38 [19:31<04:16, 36.63s/it]"
     ]
    },
    {
     "name": "stdout",
     "output_type": "stream",
     "text": [
      "i= 248 \n",
      "\n",
      "1\n",
      "2\n",
      "3\n",
      "torch.Size([8, 8])\n",
      "torch.Size([8])\n",
      "4\n"
     ]
    },
    {
     "name": "stderr",
     "output_type": "stream",
     "text": [
      " 84%|████████▍ | 32/38 [20:09<03:42, 37.02s/it]"
     ]
    },
    {
     "name": "stdout",
     "output_type": "stream",
     "text": [
      "i= 256 \n",
      "\n",
      "1\n",
      "2\n",
      "3\n",
      "torch.Size([8, 8])\n",
      "torch.Size([8])\n",
      "4\n"
     ]
    },
    {
     "name": "stderr",
     "output_type": "stream",
     "text": [
      " 87%|████████▋ | 33/38 [20:44<03:02, 36.57s/it]"
     ]
    },
    {
     "name": "stdout",
     "output_type": "stream",
     "text": [
      "i= 264 \n",
      "\n",
      "1\n",
      "2\n",
      "3\n",
      "torch.Size([8, 8])\n",
      "torch.Size([8])\n",
      "4\n"
     ]
    },
    {
     "name": "stderr",
     "output_type": "stream",
     "text": [
      " 89%|████████▉ | 34/38 [21:28<02:34, 38.71s/it]"
     ]
    },
    {
     "name": "stdout",
     "output_type": "stream",
     "text": [
      "i= 272 \n",
      "\n",
      "1\n",
      "2\n",
      "3\n",
      "torch.Size([8, 8])\n",
      "torch.Size([8])\n",
      "4\n"
     ]
    },
    {
     "name": "stderr",
     "output_type": "stream",
     "text": [
      " 92%|█████████▏| 35/38 [22:09<01:58, 39.36s/it]"
     ]
    },
    {
     "name": "stdout",
     "output_type": "stream",
     "text": [
      "i= 280 \n",
      "\n",
      "1\n",
      "2\n",
      "3\n",
      "torch.Size([8, 8])\n",
      "torch.Size([8])\n",
      "4\n"
     ]
    },
    {
     "name": "stderr",
     "output_type": "stream",
     "text": [
      " 95%|█████████▍| 36/38 [22:44<01:16, 38.20s/it]"
     ]
    },
    {
     "name": "stdout",
     "output_type": "stream",
     "text": [
      "i= 288 \n",
      "\n",
      "1\n",
      "2\n",
      "3\n",
      "torch.Size([8, 8])\n",
      "torch.Size([8])\n",
      "4\n"
     ]
    },
    {
     "name": "stderr",
     "output_type": "stream",
     "text": [
      " 97%|█████████▋| 37/38 [23:21<00:37, 37.69s/it]"
     ]
    },
    {
     "name": "stdout",
     "output_type": "stream",
     "text": [
      "i= 296 \n",
      "\n",
      "1\n",
      "2\n",
      "3\n",
      "torch.Size([4, 8])\n",
      "torch.Size([4])\n",
      "4\n"
     ]
    },
    {
     "name": "stderr",
     "output_type": "stream",
     "text": [
      "100%|██████████| 38/38 [23:35<00:00, 37.25s/it]\n",
      "  0%|          | 0/38 [00:00<?, ?it/s]"
     ]
    },
    {
     "name": "stdout",
     "output_type": "stream",
     "text": [
      "epoch: \t 3 \t training loss: \t 0.4317699805684967\n",
      "epoch 4 \n",
      "\n",
      "i= 0 \n",
      "\n",
      "1\n",
      "2\n",
      "3\n",
      "torch.Size([8, 8])\n",
      "torch.Size([8])\n",
      "4\n"
     ]
    },
    {
     "name": "stderr",
     "output_type": "stream",
     "text": [
      "  3%|▎         | 1/38 [00:39<24:33, 39.81s/it]"
     ]
    },
    {
     "name": "stdout",
     "output_type": "stream",
     "text": [
      "i= 8 \n",
      "\n",
      "1\n",
      "2\n",
      "3\n",
      "torch.Size([8, 8])\n",
      "torch.Size([8])\n",
      "4\n"
     ]
    },
    {
     "name": "stderr",
     "output_type": "stream",
     "text": [
      "  5%|▌         | 2/38 [01:16<23:15, 38.77s/it]"
     ]
    },
    {
     "name": "stdout",
     "output_type": "stream",
     "text": [
      "i= 16 \n",
      "\n",
      "1\n",
      "2\n",
      "3\n",
      "torch.Size([8, 8])\n",
      "torch.Size([8])\n",
      "4\n"
     ]
    },
    {
     "name": "stderr",
     "output_type": "stream",
     "text": [
      "  8%|▊         | 3/38 [01:51<22:00, 37.73s/it]"
     ]
    },
    {
     "name": "stdout",
     "output_type": "stream",
     "text": [
      "i= 24 \n",
      "\n",
      "1\n",
      "2\n",
      "3\n",
      "torch.Size([8, 8])\n",
      "torch.Size([8])\n",
      "4\n"
     ]
    },
    {
     "name": "stderr",
     "output_type": "stream",
     "text": [
      " 11%|█         | 4/38 [02:28<21:12, 37.44s/it]"
     ]
    },
    {
     "name": "stdout",
     "output_type": "stream",
     "text": [
      "i= 32 \n",
      "\n",
      "1\n",
      "2\n",
      "3\n",
      "torch.Size([8, 8])\n",
      "torch.Size([8])\n",
      "4\n"
     ]
    },
    {
     "name": "stderr",
     "output_type": "stream",
     "text": [
      " 13%|█▎        | 5/38 [03:03<20:14, 36.80s/it]"
     ]
    },
    {
     "name": "stdout",
     "output_type": "stream",
     "text": [
      "i= 40 \n",
      "\n",
      "1\n",
      "2\n",
      "3\n",
      "torch.Size([8, 8])\n",
      "torch.Size([8])\n",
      "4\n"
     ]
    },
    {
     "name": "stderr",
     "output_type": "stream",
     "text": [
      " 16%|█▌        | 6/38 [03:40<19:42, 36.94s/it]"
     ]
    },
    {
     "name": "stdout",
     "output_type": "stream",
     "text": [
      "i= 48 \n",
      "\n",
      "1\n",
      "2\n",
      "3\n",
      "torch.Size([8, 8])\n",
      "torch.Size([8])\n",
      "4\n"
     ]
    },
    {
     "name": "stderr",
     "output_type": "stream",
     "text": [
      " 18%|█▊        | 7/38 [04:17<19:00, 36.78s/it]"
     ]
    },
    {
     "name": "stdout",
     "output_type": "stream",
     "text": [
      "i= 56 \n",
      "\n",
      "1\n",
      "2\n",
      "3\n",
      "torch.Size([8, 8])\n",
      "torch.Size([8])\n",
      "4\n"
     ]
    },
    {
     "name": "stderr",
     "output_type": "stream",
     "text": [
      " 21%|██        | 8/38 [04:52<18:08, 36.29s/it]"
     ]
    },
    {
     "name": "stdout",
     "output_type": "stream",
     "text": [
      "i= 64 \n",
      "\n",
      "1\n",
      "2\n",
      "3\n",
      "torch.Size([8, 8])\n",
      "torch.Size([8])\n",
      "4\n"
     ]
    },
    {
     "name": "stderr",
     "output_type": "stream",
     "text": [
      " 24%|██▎       | 9/38 [05:26<17:14, 35.68s/it]"
     ]
    },
    {
     "name": "stdout",
     "output_type": "stream",
     "text": [
      "i= 72 \n",
      "\n",
      "1\n",
      "2\n",
      "3\n",
      "torch.Size([8, 8])\n",
      "torch.Size([8])\n",
      "4\n"
     ]
    },
    {
     "name": "stderr",
     "output_type": "stream",
     "text": [
      " 26%|██▋       | 10/38 [06:00<16:23, 35.13s/it]"
     ]
    },
    {
     "name": "stdout",
     "output_type": "stream",
     "text": [
      "i= 80 \n",
      "\n",
      "1\n",
      "2\n",
      "3\n",
      "torch.Size([8, 8])\n",
      "torch.Size([8])\n",
      "4\n"
     ]
    },
    {
     "name": "stderr",
     "output_type": "stream",
     "text": [
      " 29%|██▉       | 11/38 [06:36<15:53, 35.31s/it]"
     ]
    },
    {
     "name": "stdout",
     "output_type": "stream",
     "text": [
      "i= 88 \n",
      "\n",
      "1\n",
      "2\n",
      "3\n",
      "torch.Size([8, 8])\n",
      "torch.Size([8])\n",
      "4\n"
     ]
    },
    {
     "name": "stderr",
     "output_type": "stream",
     "text": [
      " 32%|███▏      | 12/38 [07:11<15:14, 35.19s/it]"
     ]
    },
    {
     "name": "stdout",
     "output_type": "stream",
     "text": [
      "i= 96 \n",
      "\n",
      "1\n",
      "2\n",
      "3\n",
      "torch.Size([8, 8])\n",
      "torch.Size([8])\n",
      "4\n"
     ]
    },
    {
     "name": "stderr",
     "output_type": "stream",
     "text": [
      " 34%|███▍      | 13/38 [07:48<14:56, 35.86s/it]"
     ]
    },
    {
     "name": "stdout",
     "output_type": "stream",
     "text": [
      "i= 104 \n",
      "\n",
      "1\n",
      "2\n",
      "3\n",
      "torch.Size([8, 8])\n",
      "torch.Size([8])\n",
      "4\n"
     ]
    },
    {
     "name": "stderr",
     "output_type": "stream",
     "text": [
      " 37%|███▋      | 14/38 [08:26<14:36, 36.52s/it]"
     ]
    },
    {
     "name": "stdout",
     "output_type": "stream",
     "text": [
      "i= 112 \n",
      "\n",
      "1\n",
      "2\n",
      "3\n",
      "torch.Size([8, 8])\n",
      "torch.Size([8])\n",
      "4\n"
     ]
    },
    {
     "name": "stderr",
     "output_type": "stream",
     "text": [
      " 39%|███▉      | 15/38 [09:03<14:05, 36.78s/it]"
     ]
    },
    {
     "name": "stdout",
     "output_type": "stream",
     "text": [
      "i= 120 \n",
      "\n",
      "1\n",
      "2\n",
      "3\n",
      "torch.Size([8, 8])\n",
      "torch.Size([8])\n",
      "4\n"
     ]
    },
    {
     "name": "stderr",
     "output_type": "stream",
     "text": [
      " 42%|████▏     | 16/38 [09:39<13:22, 36.48s/it]"
     ]
    },
    {
     "name": "stdout",
     "output_type": "stream",
     "text": [
      "i= 128 \n",
      "\n",
      "1\n",
      "2\n",
      "3\n",
      "torch.Size([8, 8])\n",
      "torch.Size([8])\n",
      "4\n"
     ]
    },
    {
     "name": "stderr",
     "output_type": "stream",
     "text": [
      " 45%|████▍     | 17/38 [10:17<12:54, 36.89s/it]"
     ]
    },
    {
     "name": "stdout",
     "output_type": "stream",
     "text": [
      "i= 136 \n",
      "\n",
      "1\n",
      "2\n",
      "3\n",
      "torch.Size([8, 8])\n",
      "torch.Size([8])\n",
      "4\n"
     ]
    },
    {
     "name": "stderr",
     "output_type": "stream",
     "text": [
      " 47%|████▋     | 18/38 [10:55<12:26, 37.32s/it]"
     ]
    },
    {
     "name": "stdout",
     "output_type": "stream",
     "text": [
      "i= 144 \n",
      "\n",
      "1\n",
      "2\n",
      "3\n",
      "torch.Size([8, 8])\n",
      "torch.Size([8])\n",
      "4\n"
     ]
    },
    {
     "name": "stderr",
     "output_type": "stream",
     "text": [
      " 50%|█████     | 19/38 [11:32<11:42, 37.00s/it]"
     ]
    },
    {
     "name": "stdout",
     "output_type": "stream",
     "text": [
      "i= 152 \n",
      "\n",
      "1\n",
      "2\n",
      "3\n",
      "torch.Size([8, 8])\n",
      "torch.Size([8])\n",
      "4\n"
     ]
    },
    {
     "name": "stderr",
     "output_type": "stream",
     "text": [
      " 53%|█████▎    | 20/38 [12:07<10:55, 36.44s/it]"
     ]
    },
    {
     "name": "stdout",
     "output_type": "stream",
     "text": [
      "i= 160 \n",
      "\n",
      "1\n",
      "2\n",
      "3\n",
      "torch.Size([8, 8])\n",
      "torch.Size([8])\n",
      "4\n"
     ]
    },
    {
     "name": "stderr",
     "output_type": "stream",
     "text": [
      " 55%|█████▌    | 21/38 [12:46<10:35, 37.36s/it]"
     ]
    },
    {
     "name": "stdout",
     "output_type": "stream",
     "text": [
      "i= 168 \n",
      "\n",
      "1\n",
      "2\n",
      "3\n",
      "torch.Size([8, 8])\n",
      "torch.Size([8])\n",
      "4\n"
     ]
    },
    {
     "name": "stderr",
     "output_type": "stream",
     "text": [
      " 58%|█████▊    | 22/38 [13:23<09:55, 37.21s/it]"
     ]
    },
    {
     "name": "stdout",
     "output_type": "stream",
     "text": [
      "i= 176 \n",
      "\n",
      "1\n",
      "2\n",
      "3\n",
      "torch.Size([8, 8])\n",
      "torch.Size([8])\n",
      "4\n"
     ]
    },
    {
     "name": "stderr",
     "output_type": "stream",
     "text": [
      " 61%|██████    | 23/38 [14:00<09:17, 37.19s/it]"
     ]
    },
    {
     "name": "stdout",
     "output_type": "stream",
     "text": [
      "i= 184 \n",
      "\n",
      "1\n",
      "2\n",
      "3\n",
      "torch.Size([8, 8])\n",
      "torch.Size([8])\n",
      "4\n"
     ]
    },
    {
     "name": "stderr",
     "output_type": "stream",
     "text": [
      " 63%|██████▎   | 24/38 [14:35<08:30, 36.46s/it]"
     ]
    },
    {
     "name": "stdout",
     "output_type": "stream",
     "text": [
      "i= 192 \n",
      "\n",
      "1\n",
      "2\n",
      "3\n",
      "torch.Size([8, 8])\n",
      "torch.Size([8])\n",
      "4\n"
     ]
    },
    {
     "name": "stderr",
     "output_type": "stream",
     "text": [
      " 66%|██████▌   | 25/38 [15:12<07:55, 36.55s/it]"
     ]
    },
    {
     "name": "stdout",
     "output_type": "stream",
     "text": [
      "i= 200 \n",
      "\n",
      "1\n",
      "2\n",
      "3\n",
      "torch.Size([8, 8])\n",
      "torch.Size([8])\n",
      "4\n"
     ]
    },
    {
     "name": "stderr",
     "output_type": "stream",
     "text": [
      " 68%|██████▊   | 26/38 [15:48<07:15, 36.33s/it]"
     ]
    },
    {
     "name": "stdout",
     "output_type": "stream",
     "text": [
      "i= 208 \n",
      "\n",
      "1\n",
      "2\n",
      "3\n",
      "torch.Size([8, 8])\n",
      "torch.Size([8])\n",
      "4\n"
     ]
    },
    {
     "name": "stderr",
     "output_type": "stream",
     "text": [
      " 71%|███████   | 27/38 [16:24<06:40, 36.37s/it]"
     ]
    },
    {
     "name": "stdout",
     "output_type": "stream",
     "text": [
      "i= 216 \n",
      "\n",
      "1\n",
      "2\n",
      "3\n",
      "torch.Size([8, 8])\n",
      "torch.Size([8])\n",
      "4\n"
     ]
    },
    {
     "name": "stderr",
     "output_type": "stream",
     "text": [
      " 74%|███████▎  | 28/38 [17:01<06:06, 36.66s/it]"
     ]
    },
    {
     "name": "stdout",
     "output_type": "stream",
     "text": [
      "i= 224 \n",
      "\n",
      "1\n",
      "2\n",
      "3\n",
      "torch.Size([8, 8])\n",
      "torch.Size([8])\n",
      "4\n"
     ]
    },
    {
     "name": "stderr",
     "output_type": "stream",
     "text": [
      " 76%|███████▋  | 29/38 [17:36<05:24, 36.02s/it]"
     ]
    },
    {
     "name": "stdout",
     "output_type": "stream",
     "text": [
      "i= 232 \n",
      "\n",
      "1\n",
      "2\n",
      "3\n",
      "torch.Size([8, 8])\n",
      "torch.Size([8])\n",
      "4\n"
     ]
    },
    {
     "name": "stderr",
     "output_type": "stream",
     "text": [
      " 79%|███████▉  | 30/38 [18:12<04:48, 36.03s/it]"
     ]
    },
    {
     "name": "stdout",
     "output_type": "stream",
     "text": [
      "i= 240 \n",
      "\n",
      "1\n",
      "2\n",
      "3\n",
      "torch.Size([8, 8])\n",
      "torch.Size([8])\n",
      "4\n"
     ]
    },
    {
     "name": "stderr",
     "output_type": "stream",
     "text": [
      " 82%|████████▏ | 31/38 [18:52<04:20, 37.26s/it]"
     ]
    },
    {
     "name": "stdout",
     "output_type": "stream",
     "text": [
      "i= 248 \n",
      "\n",
      "1\n",
      "2\n",
      "3\n",
      "torch.Size([8, 8])\n",
      "torch.Size([8])\n",
      "4\n"
     ]
    },
    {
     "name": "stderr",
     "output_type": "stream",
     "text": [
      " 84%|████████▍ | 32/38 [19:27<03:39, 36.66s/it]"
     ]
    },
    {
     "name": "stdout",
     "output_type": "stream",
     "text": [
      "i= 256 \n",
      "\n",
      "1\n",
      "2\n",
      "3\n",
      "torch.Size([8, 8])\n",
      "torch.Size([8])\n",
      "4\n"
     ]
    },
    {
     "name": "stderr",
     "output_type": "stream",
     "text": [
      " 87%|████████▋ | 33/38 [20:03<03:01, 36.23s/it]"
     ]
    },
    {
     "name": "stdout",
     "output_type": "stream",
     "text": [
      "i= 264 \n",
      "\n",
      "1\n",
      "2\n",
      "3\n",
      "torch.Size([8, 8])\n",
      "torch.Size([8])\n",
      "4\n"
     ]
    },
    {
     "name": "stderr",
     "output_type": "stream",
     "text": [
      " 89%|████████▉ | 34/38 [20:41<02:28, 37.01s/it]"
     ]
    },
    {
     "name": "stdout",
     "output_type": "stream",
     "text": [
      "i= 272 \n",
      "\n",
      "1\n",
      "2\n",
      "3\n",
      "torch.Size([8, 8])\n",
      "torch.Size([8])\n",
      "4\n"
     ]
    },
    {
     "name": "stderr",
     "output_type": "stream",
     "text": [
      " 92%|█████████▏| 35/38 [21:18<01:50, 36.95s/it]"
     ]
    },
    {
     "name": "stdout",
     "output_type": "stream",
     "text": [
      "i= 280 \n",
      "\n",
      "1\n",
      "2\n",
      "3\n",
      "torch.Size([8, 8])\n",
      "torch.Size([8])\n",
      "4\n"
     ]
    },
    {
     "name": "stderr",
     "output_type": "stream",
     "text": [
      " 95%|█████████▍| 36/38 [21:53<01:12, 36.14s/it]"
     ]
    },
    {
     "name": "stdout",
     "output_type": "stream",
     "text": [
      "i= 288 \n",
      "\n",
      "1\n",
      "2\n",
      "3\n",
      "torch.Size([8, 8])\n",
      "torch.Size([8])\n",
      "4\n"
     ]
    },
    {
     "name": "stderr",
     "output_type": "stream",
     "text": [
      " 97%|█████████▋| 37/38 [22:34<00:37, 37.77s/it]"
     ]
    },
    {
     "name": "stdout",
     "output_type": "stream",
     "text": [
      "i= 296 \n",
      "\n",
      "1\n",
      "2\n",
      "3\n",
      "torch.Size([4, 8])\n",
      "torch.Size([4])\n",
      "4\n"
     ]
    },
    {
     "name": "stderr",
     "output_type": "stream",
     "text": [
      "100%|██████████| 38/38 [22:48<00:00, 36.02s/it]\n",
      "  0%|          | 0/38 [00:00<?, ?it/s]"
     ]
    },
    {
     "name": "stdout",
     "output_type": "stream",
     "text": [
      "epoch: \t 4 \t training loss: \t 0.3820262207831927\n",
      "epoch 5 \n",
      "\n",
      "i= 0 \n",
      "\n",
      "1\n",
      "2\n",
      "3\n",
      "torch.Size([8, 8])\n",
      "torch.Size([8])\n",
      "4\n"
     ]
    },
    {
     "name": "stderr",
     "output_type": "stream",
     "text": [
      "  3%|▎         | 1/38 [00:37<22:55, 37.19s/it]"
     ]
    },
    {
     "name": "stdout",
     "output_type": "stream",
     "text": [
      "i= 8 \n",
      "\n",
      "1\n",
      "2\n",
      "3\n",
      "torch.Size([8, 8])\n",
      "torch.Size([8])\n",
      "4\n"
     ]
    },
    {
     "name": "stderr",
     "output_type": "stream",
     "text": [
      "  5%|▌         | 2/38 [01:18<23:02, 38.40s/it]"
     ]
    },
    {
     "name": "stdout",
     "output_type": "stream",
     "text": [
      "i= 16 \n",
      "\n",
      "1\n",
      "2\n",
      "3\n",
      "torch.Size([8, 8])\n",
      "torch.Size([8])\n",
      "4\n"
     ]
    },
    {
     "name": "stderr",
     "output_type": "stream",
     "text": [
      "  8%|▊         | 3/38 [02:00<22:59, 39.41s/it]"
     ]
    },
    {
     "name": "stdout",
     "output_type": "stream",
     "text": [
      "i= 24 \n",
      "\n",
      "1\n",
      "2\n",
      "3\n",
      "torch.Size([8, 8])\n",
      "torch.Size([8])\n",
      "4\n"
     ]
    },
    {
     "name": "stderr",
     "output_type": "stream",
     "text": [
      " 11%|█         | 4/38 [02:40<22:25, 39.58s/it]"
     ]
    },
    {
     "name": "stdout",
     "output_type": "stream",
     "text": [
      "i= 32 \n",
      "\n",
      "1\n",
      "2\n",
      "3\n",
      "torch.Size([8, 8])\n",
      "torch.Size([8])\n",
      "4\n"
     ]
    },
    {
     "name": "stderr",
     "output_type": "stream",
     "text": [
      " 13%|█▎        | 5/38 [03:16<21:16, 38.67s/it]"
     ]
    },
    {
     "name": "stdout",
     "output_type": "stream",
     "text": [
      "i= 40 \n",
      "\n",
      "1\n",
      "2\n",
      "3\n",
      "torch.Size([8, 8])\n",
      "torch.Size([8])\n",
      "4\n"
     ]
    },
    {
     "name": "stderr",
     "output_type": "stream",
     "text": [
      " 16%|█▌        | 6/38 [03:57<20:58, 39.34s/it]"
     ]
    },
    {
     "name": "stdout",
     "output_type": "stream",
     "text": [
      "i= 48 \n",
      "\n",
      "1\n",
      "2\n",
      "3\n",
      "torch.Size([8, 8])\n",
      "torch.Size([8])\n",
      "4\n"
     ]
    },
    {
     "name": "stderr",
     "output_type": "stream",
     "text": [
      " 18%|█▊        | 7/38 [04:38<20:35, 39.86s/it]"
     ]
    },
    {
     "name": "stdout",
     "output_type": "stream",
     "text": [
      "i= 56 \n",
      "\n",
      "1\n",
      "2\n",
      "3\n",
      "torch.Size([8, 8])\n",
      "torch.Size([8])\n",
      "4\n"
     ]
    },
    {
     "name": "stderr",
     "output_type": "stream",
     "text": [
      " 21%|██        | 8/38 [05:18<19:55, 39.86s/it]"
     ]
    },
    {
     "name": "stdout",
     "output_type": "stream",
     "text": [
      "i= 64 \n",
      "\n",
      "1\n",
      "2\n",
      "3\n",
      "torch.Size([8, 8])\n",
      "torch.Size([8])\n",
      "4\n"
     ]
    },
    {
     "name": "stderr",
     "output_type": "stream",
     "text": [
      " 24%|██▎       | 9/38 [06:00<19:33, 40.46s/it]"
     ]
    },
    {
     "name": "stdout",
     "output_type": "stream",
     "text": [
      "i= 72 \n",
      "\n",
      "1\n",
      "2\n",
      "3\n",
      "torch.Size([8, 8])\n",
      "torch.Size([8])\n",
      "4\n"
     ]
    },
    {
     "name": "stderr",
     "output_type": "stream",
     "text": [
      " 26%|██▋       | 10/38 [06:41<18:56, 40.60s/it]"
     ]
    },
    {
     "name": "stdout",
     "output_type": "stream",
     "text": [
      "i= 80 \n",
      "\n",
      "1\n",
      "2\n",
      "3\n",
      "torch.Size([8, 8])\n",
      "torch.Size([8])\n",
      "4\n"
     ]
    },
    {
     "name": "stderr",
     "output_type": "stream",
     "text": [
      " 29%|██▉       | 11/38 [07:21<18:09, 40.36s/it]"
     ]
    },
    {
     "name": "stdout",
     "output_type": "stream",
     "text": [
      "i= 88 \n",
      "\n",
      "1\n",
      "2\n",
      "3\n",
      "torch.Size([8, 8])\n",
      "torch.Size([8])\n",
      "4\n"
     ]
    },
    {
     "name": "stderr",
     "output_type": "stream",
     "text": [
      " 32%|███▏      | 12/38 [08:03<17:45, 40.98s/it]"
     ]
    },
    {
     "name": "stdout",
     "output_type": "stream",
     "text": [
      "i= 96 \n",
      "\n",
      "1\n",
      "2\n",
      "3\n",
      "torch.Size([8, 8])\n",
      "torch.Size([8])\n",
      "4\n"
     ]
    },
    {
     "name": "stderr",
     "output_type": "stream",
     "text": [
      " 34%|███▍      | 13/38 [08:45<17:14, 41.38s/it]"
     ]
    },
    {
     "name": "stdout",
     "output_type": "stream",
     "text": [
      "i= 104 \n",
      "\n",
      "1\n",
      "2\n",
      "3\n",
      "torch.Size([8, 8])\n",
      "torch.Size([8])\n",
      "4\n"
     ]
    },
    {
     "name": "stderr",
     "output_type": "stream",
     "text": [
      " 37%|███▋      | 14/38 [09:24<16:16, 40.69s/it]"
     ]
    },
    {
     "name": "stdout",
     "output_type": "stream",
     "text": [
      "i= 112 \n",
      "\n",
      "1\n",
      "2\n",
      "3\n",
      "torch.Size([8, 8])\n",
      "torch.Size([8])\n",
      "4\n"
     ]
    },
    {
     "name": "stderr",
     "output_type": "stream",
     "text": [
      " 39%|███▉      | 15/38 [10:07<15:47, 41.18s/it]"
     ]
    },
    {
     "name": "stdout",
     "output_type": "stream",
     "text": [
      "i= 120 \n",
      "\n",
      "1\n",
      "2\n",
      "3\n",
      "torch.Size([8, 8])\n",
      "torch.Size([8])\n",
      "4\n"
     ]
    },
    {
     "name": "stderr",
     "output_type": "stream",
     "text": [
      " 42%|████▏     | 16/38 [10:45<14:46, 40.27s/it]"
     ]
    },
    {
     "name": "stdout",
     "output_type": "stream",
     "text": [
      "i= 128 \n",
      "\n",
      "1\n",
      "2\n",
      "3\n",
      "torch.Size([8, 8])\n",
      "torch.Size([8])\n",
      "4\n"
     ]
    },
    {
     "name": "stderr",
     "output_type": "stream",
     "text": [
      " 45%|████▍     | 17/38 [11:24<14:01, 40.06s/it]"
     ]
    },
    {
     "name": "stdout",
     "output_type": "stream",
     "text": [
      "i= 136 \n",
      "\n",
      "1\n",
      "2\n",
      "3\n",
      "torch.Size([8, 8])\n",
      "torch.Size([8])\n",
      "4\n"
     ]
    },
    {
     "name": "stderr",
     "output_type": "stream",
     "text": [
      " 47%|████▋     | 18/38 [12:05<13:24, 40.23s/it]"
     ]
    },
    {
     "name": "stdout",
     "output_type": "stream",
     "text": [
      "i= 144 \n",
      "\n",
      "1\n",
      "2\n",
      "3\n",
      "torch.Size([8, 8])\n",
      "torch.Size([8])\n",
      "4\n"
     ]
    },
    {
     "name": "stderr",
     "output_type": "stream",
     "text": [
      " 50%|█████     | 19/38 [12:43<12:31, 39.54s/it]"
     ]
    },
    {
     "name": "stdout",
     "output_type": "stream",
     "text": [
      "i= 152 \n",
      "\n",
      "1\n",
      "2\n",
      "3\n",
      "torch.Size([8, 8])\n",
      "torch.Size([8])\n",
      "4\n"
     ]
    },
    {
     "name": "stderr",
     "output_type": "stream",
     "text": [
      " 53%|█████▎    | 20/38 [13:23<11:56, 39.80s/it]"
     ]
    },
    {
     "name": "stdout",
     "output_type": "stream",
     "text": [
      "i= 160 \n",
      "\n",
      "1\n",
      "2\n",
      "3\n",
      "torch.Size([8, 8])\n",
      "torch.Size([8])\n",
      "4\n"
     ]
    },
    {
     "name": "stderr",
     "output_type": "stream",
     "text": [
      " 55%|█████▌    | 21/38 [14:05<11:24, 40.26s/it]"
     ]
    },
    {
     "name": "stdout",
     "output_type": "stream",
     "text": [
      "i= 168 \n",
      "\n",
      "1\n",
      "2\n",
      "3\n",
      "torch.Size([8, 8])\n",
      "torch.Size([8])\n",
      "4\n"
     ]
    },
    {
     "name": "stderr",
     "output_type": "stream",
     "text": [
      " 58%|█████▊    | 22/38 [14:44<10:40, 40.01s/it]"
     ]
    },
    {
     "name": "stdout",
     "output_type": "stream",
     "text": [
      "i= 176 \n",
      "\n",
      "1\n",
      "2\n",
      "3\n",
      "torch.Size([8, 8])\n",
      "torch.Size([8])\n",
      "4\n"
     ]
    },
    {
     "name": "stderr",
     "output_type": "stream",
     "text": [
      " 61%|██████    | 23/38 [15:25<10:04, 40.29s/it]"
     ]
    },
    {
     "name": "stdout",
     "output_type": "stream",
     "text": [
      "i= 184 \n",
      "\n",
      "1\n",
      "2\n",
      "3\n",
      "torch.Size([8, 8])\n",
      "torch.Size([8])\n",
      "4\n"
     ]
    },
    {
     "name": "stderr",
     "output_type": "stream",
     "text": [
      " 63%|██████▎   | 24/38 [16:10<09:41, 41.51s/it]"
     ]
    },
    {
     "name": "stdout",
     "output_type": "stream",
     "text": [
      "i= 192 \n",
      "\n",
      "1\n",
      "2\n",
      "3\n",
      "torch.Size([8, 8])\n",
      "torch.Size([8])\n",
      "4\n"
     ]
    },
    {
     "name": "stderr",
     "output_type": "stream",
     "text": [
      " 66%|██████▌   | 25/38 [16:50<08:54, 41.13s/it]"
     ]
    },
    {
     "name": "stdout",
     "output_type": "stream",
     "text": [
      "i= 200 \n",
      "\n",
      "1\n",
      "2\n",
      "3\n",
      "torch.Size([8, 8])\n",
      "torch.Size([8])\n",
      "4\n"
     ]
    },
    {
     "name": "stderr",
     "output_type": "stream",
     "text": [
      " 68%|██████▊   | 26/38 [17:28<08:04, 40.40s/it]"
     ]
    },
    {
     "name": "stdout",
     "output_type": "stream",
     "text": [
      "i= 208 \n",
      "\n",
      "1\n",
      "2\n",
      "3\n",
      "torch.Size([8, 8])\n",
      "torch.Size([8])\n",
      "4\n"
     ]
    },
    {
     "name": "stderr",
     "output_type": "stream",
     "text": [
      " 71%|███████   | 27/38 [18:10<07:29, 40.88s/it]"
     ]
    },
    {
     "name": "stdout",
     "output_type": "stream",
     "text": [
      "i= 216 \n",
      "\n",
      "1\n",
      "2\n",
      "3\n",
      "torch.Size([8, 8])\n",
      "torch.Size([8])\n",
      "4\n"
     ]
    },
    {
     "name": "stderr",
     "output_type": "stream",
     "text": [
      " 74%|███████▎  | 28/38 [18:50<06:45, 40.54s/it]"
     ]
    },
    {
     "name": "stdout",
     "output_type": "stream",
     "text": [
      "i= 224 \n",
      "\n",
      "1\n",
      "2\n",
      "3\n",
      "torch.Size([8, 8])\n",
      "torch.Size([8])\n",
      "4\n"
     ]
    },
    {
     "name": "stderr",
     "output_type": "stream",
     "text": [
      " 76%|███████▋  | 29/38 [19:30<06:02, 40.29s/it]"
     ]
    },
    {
     "name": "stdout",
     "output_type": "stream",
     "text": [
      "i= 232 \n",
      "\n",
      "1\n",
      "2\n",
      "3\n",
      "torch.Size([8, 8])\n",
      "torch.Size([8])\n",
      "4\n"
     ]
    },
    {
     "name": "stderr",
     "output_type": "stream",
     "text": [
      " 79%|███████▉  | 30/38 [20:13<05:29, 41.13s/it]"
     ]
    },
    {
     "name": "stdout",
     "output_type": "stream",
     "text": [
      "i= 240 \n",
      "\n",
      "1\n",
      "2\n",
      "3\n",
      "torch.Size([8, 8])\n",
      "torch.Size([8])\n",
      "4\n"
     ]
    },
    {
     "name": "stderr",
     "output_type": "stream",
     "text": [
      " 82%|████████▏ | 31/38 [20:52<04:44, 40.62s/it]"
     ]
    },
    {
     "name": "stdout",
     "output_type": "stream",
     "text": [
      "i= 248 \n",
      "\n",
      "1\n",
      "2\n",
      "3\n",
      "torch.Size([8, 8])\n",
      "torch.Size([8])\n",
      "4\n"
     ]
    },
    {
     "name": "stderr",
     "output_type": "stream",
     "text": [
      " 84%|████████▍ | 32/38 [21:31<03:59, 39.96s/it]"
     ]
    },
    {
     "name": "stdout",
     "output_type": "stream",
     "text": [
      "i= 256 \n",
      "\n",
      "1\n",
      "2\n",
      "3\n",
      "torch.Size([8, 8])\n",
      "torch.Size([8])\n",
      "4\n"
     ]
    },
    {
     "name": "stderr",
     "output_type": "stream",
     "text": [
      " 87%|████████▋ | 33/38 [22:13<03:22, 40.52s/it]"
     ]
    },
    {
     "name": "stdout",
     "output_type": "stream",
     "text": [
      "i= 264 \n",
      "\n",
      "1\n",
      "2\n",
      "3\n",
      "torch.Size([8, 8])\n",
      "torch.Size([8])\n",
      "4\n"
     ]
    },
    {
     "name": "stderr",
     "output_type": "stream",
     "text": [
      " 89%|████████▉ | 34/38 [22:53<02:42, 40.60s/it]"
     ]
    },
    {
     "name": "stdout",
     "output_type": "stream",
     "text": [
      "i= 272 \n",
      "\n",
      "1\n",
      "2\n",
      "3\n",
      "torch.Size([8, 8])\n",
      "torch.Size([8])\n",
      "4\n"
     ]
    },
    {
     "name": "stderr",
     "output_type": "stream",
     "text": [
      " 92%|█████████▏| 35/38 [23:31<01:59, 39.75s/it]"
     ]
    },
    {
     "name": "stdout",
     "output_type": "stream",
     "text": [
      "i= 280 \n",
      "\n",
      "1\n",
      "2\n",
      "3\n",
      "torch.Size([8, 8])\n",
      "torch.Size([8])\n",
      "4\n"
     ]
    },
    {
     "name": "stderr",
     "output_type": "stream",
     "text": [
      " 95%|█████████▍| 36/38 [24:13<01:20, 40.47s/it]"
     ]
    },
    {
     "name": "stdout",
     "output_type": "stream",
     "text": [
      "i= 288 \n",
      "\n",
      "1\n",
      "2\n",
      "3\n",
      "torch.Size([8, 8])\n",
      "torch.Size([8])\n",
      "4\n"
     ]
    },
    {
     "name": "stderr",
     "output_type": "stream",
     "text": [
      " 97%|█████████▋| 37/38 [24:53<00:40, 40.12s/it]"
     ]
    },
    {
     "name": "stdout",
     "output_type": "stream",
     "text": [
      "i= 296 \n",
      "\n",
      "1\n",
      "2\n",
      "3\n",
      "torch.Size([4, 8])\n",
      "torch.Size([4])\n",
      "4\n"
     ]
    },
    {
     "name": "stderr",
     "output_type": "stream",
     "text": [
      "100%|██████████| 38/38 [25:07<00:00, 39.68s/it]\n"
     ]
    },
    {
     "name": "stdout",
     "output_type": "stream",
     "text": [
      "epoch: \t 5 \t training loss: \t 0.46500585118407567\n"
     ]
    }
   ],
   "source": [
    "# batch size of the model\n",
    "batch_size = 8\n",
    "\n",
    "# number of epochs to train the model\n",
    "n_epochs = 5\n",
    "\n",
    "for epoch in range(1, n_epochs+1):\n",
    "    print(\"epoch\",epoch,'\\n')\n",
    "\n",
    "    # keep track of training and validation loss\n",
    "    train_loss = 0.0\n",
    "        \n",
    "    #permutation = torch.randperm(X_source.size()[0])\n",
    "    permutation = torch.randperm(X_source.size()[0])\n",
    "\n",
    "    training_loss = []\n",
    "    #for i in tqdm(range(0,X_source.size()[0], batch_size)):\n",
    "    for i in tqdm(range(0,X_source.size()[0], batch_size)):\n",
    "        print(\"i=\",i,'\\n')\n",
    "\n",
    "        print(\"1\")\n",
    "        indices = permutation[i:i+batch_size]\n",
    "        #batch_x, batch_y = X_source[indices],y_source[indices]\n",
    "        batch_x, batch_y = X_source[indices],y_source[indices]\n",
    "        print(\"2\")\n",
    "        if torch.cuda.is_available():\n",
    "            batch_x, batch_y = batch_x.cuda(), batch_y.cuda()\n",
    "        \n",
    "        optimizer.zero_grad()\n",
    "        print(\"3\")\n",
    "        outputs = model(batch_x)\n",
    "        outputs.squeeze(1)\n",
    "        print(outputs.size())\n",
    "        print(batch_y.size())\n",
    "        loss = criterion(outputs,batch_y)\n",
    "\n",
    "        print(\"4\")\n",
    "        training_loss.append(loss.item())\n",
    "        loss.backward()\n",
    "        optimizer.step()\n",
    "        \n",
    "    training_loss = np.average(training_loss)\n",
    "    print('epoch: \\t', epoch, '\\t training loss: \\t', training_loss)"
   ]
  }
 ],
 "metadata": {
  "kernelspec": {
   "display_name": "Python 3",
   "language": "python",
   "name": "python3"
  },
  "language_info": {
   "codemirror_mode": {
    "name": "ipython",
    "version": 3
   },
   "file_extension": ".py",
   "mimetype": "text/x-python",
   "name": "python",
   "nbconvert_exporter": "python",
   "pygments_lexer": "ipython3",
   "version": "3.7.0"
  }
 },
 "nbformat": 4,
 "nbformat_minor": 4
}
